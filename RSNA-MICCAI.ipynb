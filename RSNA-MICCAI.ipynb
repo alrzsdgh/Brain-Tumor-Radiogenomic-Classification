{
 "cells": [
  {
   "cell_type": "code",
   "execution_count": 1,
   "id": "29f51db1",
   "metadata": {
    "_cell_guid": "b1076dfc-b9ad-4769-8c92-a6c4dae69d19",
    "_uuid": "8f2839f25d086af736a60e9eeb907d3b93b6e0e5",
    "execution": {
     "iopub.execute_input": "2021-08-13T16:11:22.774239Z",
     "iopub.status.busy": "2021-08-13T16:11:22.773607Z",
     "iopub.status.idle": "2021-08-13T16:11:28.043275Z",
     "shell.execute_reply": "2021-08-13T16:11:28.042268Z",
     "shell.execute_reply.started": "2021-08-12T23:23:47.550722Z"
    },
    "papermill": {
     "duration": 5.339286,
     "end_time": "2021-08-13T16:11:28.043436",
     "exception": false,
     "start_time": "2021-08-13T16:11:22.704150",
     "status": "completed"
    },
    "tags": []
   },
   "outputs": [],
   "source": [
    "# import needed modules\n",
    "\n",
    "import os\n",
    "import numpy as np\n",
    "import pandas as pd\n",
    "import seaborn as sn\n",
    "import matplotlib.pyplot as plt\n",
    "import tensorflow as tf\n",
    "import pydicom\n",
    "from scipy import ndimage\n",
    "from tqdm import tqdm\n",
    "from statistics import mode"
   ]
  },
  {
   "cell_type": "markdown",
   "id": "1363e325",
   "metadata": {
    "papermill": {
     "duration": 0.058088,
     "end_time": "2021-08-13T16:11:28.155561",
     "exception": false,
     "start_time": "2021-08-13T16:11:28.097473",
     "status": "completed"
    },
    "tags": []
   },
   "source": [
    "# Delete Excluded Samples"
   ]
  },
  {
   "cell_type": "code",
   "execution_count": 2,
   "id": "78083718",
   "metadata": {
    "execution": {
     "iopub.execute_input": "2021-08-13T16:11:28.268170Z",
     "iopub.status.busy": "2021-08-13T16:11:28.267609Z",
     "iopub.status.idle": "2021-08-13T16:11:28.332636Z",
     "shell.execute_reply": "2021-08-13T16:11:28.333888Z",
     "shell.execute_reply.started": "2021-08-12T23:23:59.228524Z"
    },
    "papermill": {
     "duration": 0.126859,
     "end_time": "2021-08-13T16:11:28.334078",
     "exception": false,
     "start_time": "2021-08-13T16:11:28.207219",
     "status": "completed"
    },
    "tags": []
   },
   "outputs": [
    {
     "name": "stdout",
     "output_type": "stream",
     "text": [
      "the amount of all samples data: 585\n",
      "the amount of test data: 87\n"
     ]
    }
   ],
   "source": [
    "samples_dir = '../input/rsna-miccai-brain-tumor-radiogenomic-classification/train'\n",
    "test_dir = '../input/rsna-miccai-brain-tumor-radiogenomic-classification/test'\n",
    "\n",
    "samples_list = os.listdir(samples_dir)\n",
    "test_list = os.listdir(test_dir)\n",
    "\n",
    "samples_list.sort()\n",
    "test_list.sort()\n",
    "\n",
    "print('the amount of all samples data:' , len(samples_list))\n",
    "print('the amount of test data:' , len(test_list))"
   ]
  },
  {
   "cell_type": "code",
   "execution_count": 3,
   "id": "c6d18a87",
   "metadata": {
    "execution": {
     "iopub.execute_input": "2021-08-13T16:11:28.452093Z",
     "iopub.status.busy": "2021-08-13T16:11:28.451476Z",
     "iopub.status.idle": "2021-08-13T16:11:28.454706Z",
     "shell.execute_reply": "2021-08-13T16:11:28.455067Z",
     "shell.execute_reply.started": "2021-08-12T23:24:05.367889Z"
    },
    "papermill": {
     "duration": 0.065862,
     "end_time": "2021-08-13T16:11:28.455216",
     "exception": false,
     "start_time": "2021-08-13T16:11:28.389354",
     "status": "completed"
    },
    "tags": []
   },
   "outputs": [
    {
     "name": "stdout",
     "output_type": "stream",
     "text": [
      "71\n",
      "81\n",
      "488\n"
     ]
    }
   ],
   "source": [
    "# find excluded samples\n",
    "\n",
    "exclu_list = ['00109' , '00123' , '00709']\n",
    "for  k , v in enumerate(samples_list):\n",
    "    if v in exclu_list:\n",
    "        print(k)"
   ]
  },
  {
   "cell_type": "code",
   "execution_count": 4,
   "id": "1ff4f620",
   "metadata": {
    "execution": {
     "iopub.execute_input": "2021-08-13T16:11:28.567812Z",
     "iopub.status.busy": "2021-08-13T16:11:28.567118Z",
     "iopub.status.idle": "2021-08-13T16:11:28.570159Z",
     "shell.execute_reply": "2021-08-13T16:11:28.569696Z",
     "shell.execute_reply.started": "2021-08-12T23:24:08.220655Z"
    },
    "papermill": {
     "duration": 0.063082,
     "end_time": "2021-08-13T16:11:28.570297",
     "exception": false,
     "start_time": "2021-08-13T16:11:28.507215",
     "status": "completed"
    },
    "tags": []
   },
   "outputs": [],
   "source": [
    "for i in exclu_list:\n",
    "    samples_list.remove(i)"
   ]
  },
  {
   "cell_type": "code",
   "execution_count": 5,
   "id": "c32bc11c",
   "metadata": {
    "execution": {
     "iopub.execute_input": "2021-08-13T16:11:28.685843Z",
     "iopub.status.busy": "2021-08-13T16:11:28.685172Z",
     "iopub.status.idle": "2021-08-13T16:11:28.688202Z",
     "shell.execute_reply": "2021-08-13T16:11:28.688703Z",
     "shell.execute_reply.started": "2021-08-12T23:24:10.919906Z"
    },
    "papermill": {
     "duration": 0.064071,
     "end_time": "2021-08-13T16:11:28.688852",
     "exception": false,
     "start_time": "2021-08-13T16:11:28.624781",
     "status": "completed"
    },
    "tags": []
   },
   "outputs": [
    {
     "name": "stdout",
     "output_type": "stream",
     "text": [
      "the amount of train data after removing extra sampels: 582\n"
     ]
    }
   ],
   "source": [
    "print('the amount of train data after removing extra sampels:' , len(samples_list))"
   ]
  },
  {
   "cell_type": "code",
   "execution_count": 6,
   "id": "e8c34e3c",
   "metadata": {
    "execution": {
     "iopub.execute_input": "2021-08-13T16:11:28.803104Z",
     "iopub.status.busy": "2021-08-13T16:11:28.802619Z",
     "iopub.status.idle": "2021-08-13T16:11:28.836216Z",
     "shell.execute_reply": "2021-08-13T16:11:28.835600Z",
     "shell.execute_reply.started": "2021-08-12T23:24:33.705903Z"
    },
    "papermill": {
     "duration": 0.090244,
     "end_time": "2021-08-13T16:11:28.836351",
     "exception": false,
     "start_time": "2021-08-13T16:11:28.746107",
     "status": "completed"
    },
    "tags": []
   },
   "outputs": [
    {
     "data": {
      "text/html": [
       "<div>\n",
       "<style scoped>\n",
       "    .dataframe tbody tr th:only-of-type {\n",
       "        vertical-align: middle;\n",
       "    }\n",
       "\n",
       "    .dataframe tbody tr th {\n",
       "        vertical-align: top;\n",
       "    }\n",
       "\n",
       "    .dataframe thead th {\n",
       "        text-align: right;\n",
       "    }\n",
       "</style>\n",
       "<table border=\"1\" class=\"dataframe\">\n",
       "  <thead>\n",
       "    <tr style=\"text-align: right;\">\n",
       "      <th></th>\n",
       "      <th>BraTS21ID</th>\n",
       "      <th>MGMT_value</th>\n",
       "    </tr>\n",
       "  </thead>\n",
       "  <tbody>\n",
       "    <tr>\n",
       "      <th>0</th>\n",
       "      <td>0</td>\n",
       "      <td>1</td>\n",
       "    </tr>\n",
       "    <tr>\n",
       "      <th>1</th>\n",
       "      <td>2</td>\n",
       "      <td>1</td>\n",
       "    </tr>\n",
       "    <tr>\n",
       "      <th>2</th>\n",
       "      <td>3</td>\n",
       "      <td>0</td>\n",
       "    </tr>\n",
       "    <tr>\n",
       "      <th>3</th>\n",
       "      <td>5</td>\n",
       "      <td>1</td>\n",
       "    </tr>\n",
       "    <tr>\n",
       "      <th>4</th>\n",
       "      <td>6</td>\n",
       "      <td>1</td>\n",
       "    </tr>\n",
       "    <tr>\n",
       "      <th>...</th>\n",
       "      <td>...</td>\n",
       "      <td>...</td>\n",
       "    </tr>\n",
       "    <tr>\n",
       "      <th>580</th>\n",
       "      <td>1005</td>\n",
       "      <td>1</td>\n",
       "    </tr>\n",
       "    <tr>\n",
       "      <th>581</th>\n",
       "      <td>1007</td>\n",
       "      <td>1</td>\n",
       "    </tr>\n",
       "    <tr>\n",
       "      <th>582</th>\n",
       "      <td>1008</td>\n",
       "      <td>1</td>\n",
       "    </tr>\n",
       "    <tr>\n",
       "      <th>583</th>\n",
       "      <td>1009</td>\n",
       "      <td>0</td>\n",
       "    </tr>\n",
       "    <tr>\n",
       "      <th>584</th>\n",
       "      <td>1010</td>\n",
       "      <td>0</td>\n",
       "    </tr>\n",
       "  </tbody>\n",
       "</table>\n",
       "<p>582 rows × 2 columns</p>\n",
       "</div>"
      ],
      "text/plain": [
       "     BraTS21ID  MGMT_value\n",
       "0            0           1\n",
       "1            2           1\n",
       "2            3           0\n",
       "3            5           1\n",
       "4            6           1\n",
       "..         ...         ...\n",
       "580       1005           1\n",
       "581       1007           1\n",
       "582       1008           1\n",
       "583       1009           0\n",
       "584       1010           0\n",
       "\n",
       "[582 rows x 2 columns]"
      ]
     },
     "execution_count": 6,
     "metadata": {},
     "output_type": "execute_result"
    }
   ],
   "source": [
    "# remove extra samples from labels\n",
    "\n",
    "labels_dir = '../input/rsna-miccai-brain-tumor-radiogenomic-classification/train_labels.csv'\n",
    "samples_labels = pd.read_csv(labels_dir)\n",
    "samples_labels = samples_labels.drop([71,81,488])\n",
    "samples_labels"
   ]
  },
  {
   "cell_type": "code",
   "execution_count": 7,
   "id": "36534a1d",
   "metadata": {
    "execution": {
     "iopub.execute_input": "2021-08-13T16:11:28.954344Z",
     "iopub.status.busy": "2021-08-13T16:11:28.953749Z",
     "iopub.status.idle": "2021-08-13T16:11:28.956900Z",
     "shell.execute_reply": "2021-08-13T16:11:28.957482Z",
     "shell.execute_reply.started": "2021-08-12T23:24:37.411676Z"
    },
    "papermill": {
     "duration": 0.066394,
     "end_time": "2021-08-13T16:11:28.957644",
     "exception": false,
     "start_time": "2021-08-13T16:11:28.891250",
     "status": "completed"
    },
    "tags": []
   },
   "outputs": [
    {
     "name": "stdout",
     "output_type": "stream",
     "text": [
      "samples length: 582 | test length: 87\n"
     ]
    }
   ],
   "source": [
    "print('samples length:',len(samples_list),'|', 'test length:',len(test_list))"
   ]
  },
  {
   "cell_type": "markdown",
   "id": "096e4b6e",
   "metadata": {
    "papermill": {
     "duration": 0.058786,
     "end_time": "2021-08-13T16:11:29.071093",
     "exception": false,
     "start_time": "2021-08-13T16:11:29.012307",
     "status": "completed"
    },
    "tags": []
   },
   "source": [
    "# Usefull Functions"
   ]
  },
  {
   "cell_type": "code",
   "execution_count": 8,
   "id": "f802a655",
   "metadata": {
    "execution": {
     "iopub.execute_input": "2021-08-13T16:11:29.186520Z",
     "iopub.status.busy": "2021-08-13T16:11:29.185842Z",
     "iopub.status.idle": "2021-08-13T16:11:29.188728Z",
     "shell.execute_reply": "2021-08-13T16:11:29.188188Z",
     "shell.execute_reply.started": "2021-08-12T23:24:40.593944Z"
    },
    "papermill": {
     "duration": 0.062785,
     "end_time": "2021-08-13T16:11:29.188846",
     "exception": false,
     "start_time": "2021-08-13T16:11:29.126061",
     "status": "completed"
    },
    "tags": []
   },
   "outputs": [],
   "source": [
    "def dicom2numpy(base_dir , file_dir):\n",
    "    filename = pydicom.data.data_manager.get_files(base_dir, file_dir)[0]\n",
    "    ds = pydicom.dcmread(filename)\n",
    "    return ds.pixel_array"
   ]
  },
  {
   "cell_type": "code",
   "execution_count": 9,
   "id": "110ee97b",
   "metadata": {
    "execution": {
     "iopub.execute_input": "2021-08-13T16:11:29.306319Z",
     "iopub.status.busy": "2021-08-13T16:11:29.305585Z",
     "iopub.status.idle": "2021-08-13T16:11:29.308574Z",
     "shell.execute_reply": "2021-08-13T16:11:29.308021Z",
     "shell.execute_reply.started": "2021-08-12T23:24:43.818249Z"
    },
    "papermill": {
     "duration": 0.061275,
     "end_time": "2021-08-13T16:11:29.308691",
     "exception": false,
     "start_time": "2021-08-13T16:11:29.247416",
     "status": "completed"
    },
    "tags": []
   },
   "outputs": [],
   "source": [
    "def dicomdir2numpy(folder_dir):\n",
    "    arr = []\n",
    "    dicom_list = os.listdir(folder_dir)\n",
    "    dicom_list.sort()\n",
    "    for item in dicom_list:\n",
    "        arr.append(dicom2numpy(folder_dir , item))\n",
    "    arr = np.asarray(arr)\n",
    "    final_arr = np.reshape(arr , (np.shape(arr)[1],np.shape(arr)[2],np.shape(arr)[0]))\n",
    "    return final_arr"
   ]
  },
  {
   "cell_type": "code",
   "execution_count": 10,
   "id": "c4158084",
   "metadata": {
    "execution": {
     "iopub.execute_input": "2021-08-13T16:11:29.429085Z",
     "iopub.status.busy": "2021-08-13T16:11:29.428221Z",
     "iopub.status.idle": "2021-08-13T16:11:29.431389Z",
     "shell.execute_reply": "2021-08-13T16:11:29.430801Z",
     "shell.execute_reply.started": "2021-08-12T23:24:47.256916Z"
    },
    "papermill": {
     "duration": 0.064559,
     "end_time": "2021-08-13T16:11:29.431505",
     "exception": false,
     "start_time": "2021-08-13T16:11:29.366946",
     "status": "completed"
    },
    "tags": []
   },
   "outputs": [],
   "source": [
    "def resize(img,desired_width = 64,desired_height = 64,desired_depth = 32):\n",
    "    \"\"\"Resize across z-axis\"\"\"\n",
    "    # Get current depth\n",
    "    current_depth = img.shape[-1]\n",
    "    current_width = img.shape[0]\n",
    "    current_height = img.shape[1]\n",
    "    # Compute depth factor\n",
    "    depth_factor = desired_depth / current_depth\n",
    "    width_factor = desired_width / current_width\n",
    "    height_factor = desired_height / current_height\n",
    "    # Resize across z-axis\n",
    "    img = ndimage.zoom(img, (width_factor, height_factor, depth_factor), order=1)\n",
    "    return np.expand_dims(img,axis=-1)"
   ]
  },
  {
   "cell_type": "markdown",
   "id": "8887ccf7",
   "metadata": {
    "papermill": {
     "duration": 0.055953,
     "end_time": "2021-08-13T16:11:29.543047",
     "exception": false,
     "start_time": "2021-08-13T16:11:29.487094",
     "status": "completed"
    },
    "tags": []
   },
   "source": [
    "# Convert All Samples to Numpy Array"
   ]
  },
  {
   "cell_type": "markdown",
   "id": "8d07b8e2",
   "metadata": {
    "papermill": {
     "duration": 0.056284,
     "end_time": "2021-08-13T16:11:29.654090",
     "exception": false,
     "start_time": "2021-08-13T16:11:29.597806",
     "status": "completed"
    },
    "tags": []
   },
   "source": [
    "## Train FLAIR"
   ]
  },
  {
   "cell_type": "code",
   "execution_count": 11,
   "id": "d4c66b89",
   "metadata": {
    "execution": {
     "iopub.execute_input": "2021-08-13T16:11:29.773571Z",
     "iopub.status.busy": "2021-08-13T16:11:29.772744Z",
     "iopub.status.idle": "2021-08-13T16:22:32.487605Z",
     "shell.execute_reply": "2021-08-13T16:22:32.488315Z",
     "shell.execute_reply.started": "2021-08-12T23:30:03.045716Z"
    },
    "papermill": {
     "duration": 662.780057,
     "end_time": "2021-08-13T16:22:32.488564",
     "exception": false,
     "start_time": "2021-08-13T16:11:29.708507",
     "status": "completed"
    },
    "tags": []
   },
   "outputs": [
    {
     "name": "stderr",
     "output_type": "stream",
     "text": [
      "100%|██████████| 582/582 [11:02<00:00,  1.14s/it]\n"
     ]
    }
   ],
   "source": [
    "train_flair_list = []\n",
    "for i in tqdm(samples_list):\n",
    "    s_dir = os.path.join(samples_dir , i , 'FLAIR')\n",
    "    train_flair_list.append(resize(dicomdir2numpy(s_dir)))\n",
    "\n",
    "train_flair = np.asarray(train_flair_list)"
   ]
  },
  {
   "cell_type": "code",
   "execution_count": 12,
   "id": "d86948a0",
   "metadata": {
    "execution": {
     "iopub.execute_input": "2021-08-13T16:22:32.922413Z",
     "iopub.status.busy": "2021-08-13T16:22:32.921287Z",
     "iopub.status.idle": "2021-08-13T16:22:34.149631Z",
     "shell.execute_reply": "2021-08-13T16:22:34.148717Z",
     "shell.execute_reply.started": "2021-08-12T23:56:36.673036Z"
    },
    "papermill": {
     "duration": 1.448292,
     "end_time": "2021-08-13T16:22:34.149773",
     "exception": false,
     "start_time": "2021-08-13T16:22:32.701481",
     "status": "completed"
    },
    "tags": []
   },
   "outputs": [],
   "source": [
    "train_flair = (train_flair - np.mean(train_flair))/np.std(train_flair)"
   ]
  },
  {
   "cell_type": "code",
   "execution_count": 13,
   "id": "cf9d0aa7",
   "metadata": {
    "execution": {
     "iopub.execute_input": "2021-08-13T16:22:34.594288Z",
     "iopub.status.busy": "2021-08-13T16:22:34.593107Z",
     "iopub.status.idle": "2021-08-13T16:22:34.731469Z",
     "shell.execute_reply": "2021-08-13T16:22:34.730969Z",
     "shell.execute_reply.started": "2021-08-12T23:56:17.454856Z"
    },
    "papermill": {
     "duration": 0.365165,
     "end_time": "2021-08-13T16:22:34.731616",
     "exception": false,
     "start_time": "2021-08-13T16:22:34.366451",
     "status": "completed"
    },
    "tags": []
   },
   "outputs": [],
   "source": [
    "train_flair = train_flair.astype('float32')"
   ]
  },
  {
   "cell_type": "code",
   "execution_count": 14,
   "id": "b4ca12ee",
   "metadata": {
    "execution": {
     "iopub.execute_input": "2021-08-13T16:22:35.175743Z",
     "iopub.status.busy": "2021-08-13T16:22:35.171160Z",
     "iopub.status.idle": "2021-08-13T16:22:35.652238Z",
     "shell.execute_reply": "2021-08-13T16:22:35.651754Z",
     "shell.execute_reply.started": "2021-08-13T00:01:02.937075Z"
    },
    "papermill": {
     "duration": 0.699718,
     "end_time": "2021-08-13T16:22:35.652377",
     "exception": false,
     "start_time": "2021-08-13T16:22:34.952659",
     "status": "completed"
    },
    "tags": []
   },
   "outputs": [],
   "source": [
    "np.savez('./train_flair' , train_flair)"
   ]
  },
  {
   "cell_type": "markdown",
   "id": "216a4fa7",
   "metadata": {
    "papermill": {
     "duration": 0.196437,
     "end_time": "2021-08-13T16:22:36.052083",
     "exception": false,
     "start_time": "2021-08-13T16:22:35.855646",
     "status": "completed"
    },
    "tags": []
   },
   "source": [
    "## Train T1w"
   ]
  },
  {
   "cell_type": "code",
   "execution_count": 15,
   "id": "b59db270",
   "metadata": {
    "execution": {
     "iopub.execute_input": "2021-08-13T16:22:36.451704Z",
     "iopub.status.busy": "2021-08-13T16:22:36.451060Z",
     "iopub.status.idle": "2021-08-13T16:32:03.282660Z",
     "shell.execute_reply": "2021-08-13T16:32:03.282156Z",
     "shell.execute_reply.started": "2021-08-12T23:43:52.229779Z"
    },
    "papermill": {
     "duration": 567.034181,
     "end_time": "2021-08-13T16:32:03.282798",
     "exception": false,
     "start_time": "2021-08-13T16:22:36.248617",
     "status": "completed"
    },
    "tags": []
   },
   "outputs": [
    {
     "name": "stderr",
     "output_type": "stream",
     "text": [
      "100%|██████████| 582/582 [09:26<00:00,  1.03it/s]\n"
     ]
    }
   ],
   "source": [
    "train_t1w_list = []\n",
    "for i in tqdm(samples_list):\n",
    "    s_dir = os.path.join(samples_dir , i , 'T1w')\n",
    "    train_t1w_list.append(resize(dicomdir2numpy(s_dir)))\n",
    "\n",
    "train_t1w = np.asarray(train_t1w_list)"
   ]
  },
  {
   "cell_type": "code",
   "execution_count": 16,
   "id": "e4cbd0ca",
   "metadata": {
    "execution": {
     "iopub.execute_input": "2021-08-13T16:32:03.987002Z",
     "iopub.status.busy": "2021-08-13T16:32:03.986162Z",
     "iopub.status.idle": "2021-08-13T16:32:05.224370Z",
     "shell.execute_reply": "2021-08-13T16:32:05.223436Z",
     "shell.execute_reply.started": "2021-08-13T00:01:45.073509Z"
    },
    "papermill": {
     "duration": 1.599372,
     "end_time": "2021-08-13T16:32:05.224511",
     "exception": false,
     "start_time": "2021-08-13T16:32:03.625139",
     "status": "completed"
    },
    "tags": []
   },
   "outputs": [],
   "source": [
    "train_t1w = (train_t1w - np.mean(train_t1w)) / np.std(train_t1w)"
   ]
  },
  {
   "cell_type": "code",
   "execution_count": 17,
   "id": "33b10578",
   "metadata": {
    "execution": {
     "iopub.execute_input": "2021-08-13T16:32:05.917394Z",
     "iopub.status.busy": "2021-08-13T16:32:05.916362Z",
     "iopub.status.idle": "2021-08-13T16:32:06.044249Z",
     "shell.execute_reply": "2021-08-13T16:32:06.043786Z",
     "shell.execute_reply.started": "2021-08-13T00:02:07.43137Z"
    },
    "papermill": {
     "duration": 0.475949,
     "end_time": "2021-08-13T16:32:06.044379",
     "exception": false,
     "start_time": "2021-08-13T16:32:05.568430",
     "status": "completed"
    },
    "tags": []
   },
   "outputs": [],
   "source": [
    "train_t1w = train_t1w.astype('float32')"
   ]
  },
  {
   "cell_type": "code",
   "execution_count": 18,
   "id": "cacaab90",
   "metadata": {
    "execution": {
     "iopub.execute_input": "2021-08-13T16:32:06.736999Z",
     "iopub.status.busy": "2021-08-13T16:32:06.736236Z",
     "iopub.status.idle": "2021-08-13T16:32:07.218225Z",
     "shell.execute_reply": "2021-08-13T16:32:07.217300Z",
     "shell.execute_reply.started": "2021-08-13T00:02:25.413317Z"
    },
    "papermill": {
     "duration": 0.832045,
     "end_time": "2021-08-13T16:32:07.218366",
     "exception": false,
     "start_time": "2021-08-13T16:32:06.386321",
     "status": "completed"
    },
    "tags": []
   },
   "outputs": [],
   "source": [
    "np.savez('./train_t1w' , train_t1w)"
   ]
  },
  {
   "cell_type": "markdown",
   "id": "daaf6f74",
   "metadata": {
    "papermill": {
     "duration": 0.34249,
     "end_time": "2021-08-13T16:32:07.901891",
     "exception": false,
     "start_time": "2021-08-13T16:32:07.559401",
     "status": "completed"
    },
    "tags": []
   },
   "source": [
    "## Train T1wCE"
   ]
  },
  {
   "cell_type": "code",
   "execution_count": 19,
   "id": "9bf0edd4",
   "metadata": {
    "execution": {
     "iopub.execute_input": "2021-08-13T16:32:08.601148Z",
     "iopub.status.busy": "2021-08-13T16:32:08.600550Z",
     "iopub.status.idle": "2021-08-13T16:44:50.049691Z",
     "shell.execute_reply": "2021-08-13T16:44:50.049260Z",
     "shell.execute_reply.started": "2021-08-13T00:02:36.98584Z"
    },
    "papermill": {
     "duration": 761.805617,
     "end_time": "2021-08-13T16:44:50.049835",
     "exception": false,
     "start_time": "2021-08-13T16:32:08.244218",
     "status": "completed"
    },
    "tags": []
   },
   "outputs": [
    {
     "name": "stderr",
     "output_type": "stream",
     "text": [
      "100%|██████████| 582/582 [12:41<00:00,  1.31s/it]\n"
     ]
    }
   ],
   "source": [
    "train_t1wce_list = []\n",
    "for i in tqdm(samples_list):\n",
    "    s_dir = os.path.join(samples_dir , i , 'T1wCE')\n",
    "    train_t1wce_list.append(resize(dicomdir2numpy(s_dir)))\n",
    "\n",
    "train_t1wce = np.asarray(train_t1wce_list)"
   ]
  },
  {
   "cell_type": "code",
   "execution_count": 20,
   "id": "c5a70a52",
   "metadata": {
    "execution": {
     "iopub.execute_input": "2021-08-13T16:44:51.036826Z",
     "iopub.status.busy": "2021-08-13T16:44:51.036012Z",
     "iopub.status.idle": "2021-08-13T16:44:52.314202Z",
     "shell.execute_reply": "2021-08-13T16:44:52.313711Z",
     "shell.execute_reply.started": "2021-08-13T00:14:43.283813Z"
    },
    "papermill": {
     "duration": 1.774312,
     "end_time": "2021-08-13T16:44:52.314331",
     "exception": false,
     "start_time": "2021-08-13T16:44:50.540019",
     "status": "completed"
    },
    "tags": []
   },
   "outputs": [],
   "source": [
    "train_t1wce = (train_t1wce - np.mean(train_t1wce)) / np.std(train_t1wce)"
   ]
  },
  {
   "cell_type": "code",
   "execution_count": 21,
   "id": "91ead6ed",
   "metadata": {
    "execution": {
     "iopub.execute_input": "2021-08-13T16:44:53.340129Z",
     "iopub.status.busy": "2021-08-13T16:44:53.339083Z",
     "iopub.status.idle": "2021-08-13T16:44:53.475012Z",
     "shell.execute_reply": "2021-08-13T16:44:53.475427Z",
     "shell.execute_reply.started": "2021-08-13T00:14:49.176931Z"
    },
    "papermill": {
     "duration": 0.637573,
     "end_time": "2021-08-13T16:44:53.475588",
     "exception": false,
     "start_time": "2021-08-13T16:44:52.838015",
     "status": "completed"
    },
    "tags": []
   },
   "outputs": [],
   "source": [
    "train_t1wce = train_t1wce.astype('float32')"
   ]
  },
  {
   "cell_type": "code",
   "execution_count": 22,
   "id": "8847a6f9",
   "metadata": {
    "execution": {
     "iopub.execute_input": "2021-08-13T16:44:54.473986Z",
     "iopub.status.busy": "2021-08-13T16:44:54.472691Z",
     "iopub.status.idle": "2021-08-13T16:44:54.960937Z",
     "shell.execute_reply": "2021-08-13T16:44:54.960472Z",
     "shell.execute_reply.started": "2021-08-13T00:14:52.350969Z"
    },
    "papermill": {
     "duration": 0.982107,
     "end_time": "2021-08-13T16:44:54.961066",
     "exception": false,
     "start_time": "2021-08-13T16:44:53.978959",
     "status": "completed"
    },
    "tags": []
   },
   "outputs": [],
   "source": [
    "np.savez('./train_t1wce' , train_t1wce)"
   ]
  },
  {
   "cell_type": "markdown",
   "id": "ce9d8cd2",
   "metadata": {
    "papermill": {
     "duration": 0.486739,
     "end_time": "2021-08-13T16:44:55.936028",
     "exception": false,
     "start_time": "2021-08-13T16:44:55.449289",
     "status": "completed"
    },
    "tags": []
   },
   "source": [
    "## Train T2w"
   ]
  },
  {
   "cell_type": "code",
   "execution_count": 23,
   "id": "78c867d8",
   "metadata": {
    "execution": {
     "iopub.execute_input": "2021-08-13T16:44:56.921005Z",
     "iopub.status.busy": "2021-08-13T16:44:56.920447Z",
     "iopub.status.idle": "2021-08-13T16:59:47.780554Z",
     "shell.execute_reply": "2021-08-13T16:59:47.781395Z",
     "shell.execute_reply.started": "2021-08-13T00:14:58.260564Z"
    },
    "papermill": {
     "duration": 891.355434,
     "end_time": "2021-08-13T16:59:47.781563",
     "exception": false,
     "start_time": "2021-08-13T16:44:56.426129",
     "status": "completed"
    },
    "tags": []
   },
   "outputs": [
    {
     "name": "stderr",
     "output_type": "stream",
     "text": [
      "100%|██████████| 582/582 [14:50<00:00,  1.53s/it]\n"
     ]
    }
   ],
   "source": [
    "train_t2w_list = []\n",
    "for i in tqdm(samples_list):\n",
    "    s_dir = os.path.join(samples_dir , i , 'T2w')\n",
    "    train_t2w_list.append(resize(dicomdir2numpy(s_dir)))\n",
    "\n",
    "train_t2w = np.asarray(train_t2w_list)"
   ]
  },
  {
   "cell_type": "code",
   "execution_count": 24,
   "id": "e14dbbcb",
   "metadata": {
    "execution": {
     "iopub.execute_input": "2021-08-13T16:59:49.156860Z",
     "iopub.status.busy": "2021-08-13T16:59:49.155877Z",
     "iopub.status.idle": "2021-08-13T16:59:50.696507Z",
     "shell.execute_reply": "2021-08-13T16:59:50.695556Z",
     "shell.execute_reply.started": "2021-08-13T00:30:54.994083Z"
    },
    "papermill": {
     "duration": 2.23129,
     "end_time": "2021-08-13T16:59:50.696645",
     "exception": false,
     "start_time": "2021-08-13T16:59:48.465355",
     "status": "completed"
    },
    "tags": []
   },
   "outputs": [],
   "source": [
    "train_t2w = (train_t2w - np.mean(train_t2w)) / np.std(train_t2w)"
   ]
  },
  {
   "cell_type": "code",
   "execution_count": 25,
   "id": "f7c20989",
   "metadata": {
    "execution": {
     "iopub.execute_input": "2021-08-13T16:59:52.059599Z",
     "iopub.status.busy": "2021-08-13T16:59:52.058534Z",
     "iopub.status.idle": "2021-08-13T16:59:52.193151Z",
     "shell.execute_reply": "2021-08-13T16:59:52.192676Z",
     "shell.execute_reply.started": "2021-08-13T00:30:59.466429Z"
    },
    "papermill": {
     "duration": 0.822522,
     "end_time": "2021-08-13T16:59:52.193293",
     "exception": false,
     "start_time": "2021-08-13T16:59:51.370771",
     "status": "completed"
    },
    "tags": []
   },
   "outputs": [],
   "source": [
    "train_t2w = train_t2w.astype('float32')"
   ]
  },
  {
   "cell_type": "code",
   "execution_count": 26,
   "id": "e898b53d",
   "metadata": {
    "execution": {
     "iopub.execute_input": "2021-08-13T16:59:53.602866Z",
     "iopub.status.busy": "2021-08-13T16:59:53.601930Z",
     "iopub.status.idle": "2021-08-13T16:59:54.147541Z",
     "shell.execute_reply": "2021-08-13T16:59:54.147004Z",
     "shell.execute_reply.started": "2021-08-13T00:31:02.515258Z"
    },
    "papermill": {
     "duration": 1.271298,
     "end_time": "2021-08-13T16:59:54.147695",
     "exception": false,
     "start_time": "2021-08-13T16:59:52.876397",
     "status": "completed"
    },
    "tags": []
   },
   "outputs": [],
   "source": [
    "np.savez('./train_t2w' , train_t2w)"
   ]
  },
  {
   "cell_type": "markdown",
   "id": "78467e8f",
   "metadata": {
    "papermill": {
     "duration": 0.692338,
     "end_time": "2021-08-13T16:59:55.523648",
     "exception": false,
     "start_time": "2021-08-13T16:59:54.831310",
     "status": "completed"
    },
    "tags": []
   },
   "source": [
    "## Test FLAIR"
   ]
  },
  {
   "cell_type": "code",
   "execution_count": 27,
   "id": "22f62167",
   "metadata": {
    "execution": {
     "iopub.execute_input": "2021-08-13T16:59:56.903448Z",
     "iopub.status.busy": "2021-08-13T16:59:56.902814Z",
     "iopub.status.idle": "2021-08-13T17:01:27.543404Z",
     "shell.execute_reply": "2021-08-13T17:01:27.543888Z",
     "shell.execute_reply.started": "2021-08-13T00:31:07.85787Z"
    },
    "papermill": {
     "duration": 91.328843,
     "end_time": "2021-08-13T17:01:27.544058",
     "exception": false,
     "start_time": "2021-08-13T16:59:56.215215",
     "status": "completed"
    },
    "tags": []
   },
   "outputs": [
    {
     "name": "stderr",
     "output_type": "stream",
     "text": [
      "100%|██████████| 87/87 [01:30<00:00,  1.04s/it]\n"
     ]
    }
   ],
   "source": [
    "test_flair_list = []\n",
    "for i in tqdm(test_list):\n",
    "    s_dir = os.path.join(test_dir , i , 'FLAIR')\n",
    "    test_flair_list.append(resize(dicomdir2numpy(s_dir)))\n",
    "\n",
    "test_flair = np.asarray(test_flair_list)"
   ]
  },
  {
   "cell_type": "code",
   "execution_count": 28,
   "id": "3d8d4d4d",
   "metadata": {
    "execution": {
     "iopub.execute_input": "2021-08-13T17:01:29.135832Z",
     "iopub.status.busy": "2021-08-13T17:01:29.135053Z",
     "iopub.status.idle": "2021-08-13T17:01:29.624161Z",
     "shell.execute_reply": "2021-08-13T17:01:29.623124Z",
     "shell.execute_reply.started": "2021-08-13T00:32:50.460408Z"
    },
    "papermill": {
     "duration": 1.376972,
     "end_time": "2021-08-13T17:01:29.624338",
     "exception": false,
     "start_time": "2021-08-13T17:01:28.247366",
     "status": "completed"
    },
    "tags": []
   },
   "outputs": [],
   "source": [
    "test_flair = (test_flair - np.mean(train_flair)) / np.std(train_flair)"
   ]
  },
  {
   "cell_type": "code",
   "execution_count": 29,
   "id": "d77a3b01",
   "metadata": {
    "execution": {
     "iopub.execute_input": "2021-08-13T17:01:31.050918Z",
     "iopub.status.busy": "2021-08-13T17:01:31.049646Z",
     "iopub.status.idle": "2021-08-13T17:01:31.066274Z",
     "shell.execute_reply": "2021-08-13T17:01:31.065810Z",
     "shell.execute_reply.started": "2021-08-13T00:32:52.135171Z"
    },
    "papermill": {
     "duration": 0.731627,
     "end_time": "2021-08-13T17:01:31.066400",
     "exception": false,
     "start_time": "2021-08-13T17:01:30.334773",
     "status": "completed"
    },
    "tags": []
   },
   "outputs": [],
   "source": [
    "test_flair = test_flair.astype('float32')"
   ]
  },
  {
   "cell_type": "code",
   "execution_count": 30,
   "id": "20e07514",
   "metadata": {
    "execution": {
     "iopub.execute_input": "2021-08-13T17:01:32.532635Z",
     "iopub.status.busy": "2021-08-13T17:01:32.529167Z",
     "iopub.status.idle": "2021-08-13T17:01:32.614626Z",
     "shell.execute_reply": "2021-08-13T17:01:32.614052Z",
     "shell.execute_reply.started": "2021-08-13T00:32:55.083075Z"
    },
    "papermill": {
     "duration": 0.840798,
     "end_time": "2021-08-13T17:01:32.614776",
     "exception": false,
     "start_time": "2021-08-13T17:01:31.773978",
     "status": "completed"
    },
    "tags": []
   },
   "outputs": [],
   "source": [
    "np.savez('./test_flair' , test_flair)"
   ]
  },
  {
   "cell_type": "markdown",
   "id": "9627e7a0",
   "metadata": {
    "papermill": {
     "duration": 0.724552,
     "end_time": "2021-08-13T17:01:34.043635",
     "exception": false,
     "start_time": "2021-08-13T17:01:33.319083",
     "status": "completed"
    },
    "tags": []
   },
   "source": [
    "## Test T1w"
   ]
  },
  {
   "cell_type": "code",
   "execution_count": 31,
   "id": "1d190e76",
   "metadata": {
    "execution": {
     "iopub.execute_input": "2021-08-13T17:01:35.468908Z",
     "iopub.status.busy": "2021-08-13T17:01:35.468284Z",
     "iopub.status.idle": "2021-08-13T17:03:09.297382Z",
     "shell.execute_reply": "2021-08-13T17:03:09.297811Z",
     "shell.execute_reply.started": "2021-08-13T00:33:02.015049Z"
    },
    "papermill": {
     "duration": 94.539462,
     "end_time": "2021-08-13T17:03:09.297967",
     "exception": false,
     "start_time": "2021-08-13T17:01:34.758505",
     "status": "completed"
    },
    "tags": []
   },
   "outputs": [
    {
     "name": "stderr",
     "output_type": "stream",
     "text": [
      "100%|██████████| 87/87 [01:33<00:00,  1.08s/it]\n"
     ]
    }
   ],
   "source": [
    "test_t1w_list = []\n",
    "for i in tqdm(test_list):\n",
    "    s_dir = os.path.join(test_dir , i , 'T1w')\n",
    "    test_t1w_list.append(resize(dicomdir2numpy(s_dir)))\n",
    "\n",
    "test_t1w = np.asarray(test_t1w_list)"
   ]
  },
  {
   "cell_type": "code",
   "execution_count": 32,
   "id": "812a42a2",
   "metadata": {
    "execution": {
     "iopub.execute_input": "2021-08-13T17:03:10.673028Z",
     "iopub.status.busy": "2021-08-13T17:03:10.672215Z",
     "iopub.status.idle": "2021-08-13T17:03:11.080685Z",
     "shell.execute_reply": "2021-08-13T17:03:11.081143Z",
     "shell.execute_reply.started": "2021-08-13T00:34:56.777695Z"
    },
    "papermill": {
     "duration": 1.102909,
     "end_time": "2021-08-13T17:03:11.081327",
     "exception": false,
     "start_time": "2021-08-13T17:03:09.978418",
     "status": "completed"
    },
    "tags": []
   },
   "outputs": [],
   "source": [
    "test_t1w = (test_t1w - np.mean(train_t1w)) / np.std(train_t1w)"
   ]
  },
  {
   "cell_type": "code",
   "execution_count": 33,
   "id": "73f317ce",
   "metadata": {
    "execution": {
     "iopub.execute_input": "2021-08-13T17:03:12.489643Z",
     "iopub.status.busy": "2021-08-13T17:03:12.488652Z",
     "iopub.status.idle": "2021-08-13T17:03:12.504328Z",
     "shell.execute_reply": "2021-08-13T17:03:12.503907Z",
     "shell.execute_reply.started": "2021-08-13T00:34:58.342858Z"
    },
    "papermill": {
     "duration": 0.7407,
     "end_time": "2021-08-13T17:03:12.504443",
     "exception": false,
     "start_time": "2021-08-13T17:03:11.763743",
     "status": "completed"
    },
    "tags": []
   },
   "outputs": [],
   "source": [
    "test_t1w = test_t1w.astype('float32')"
   ]
  },
  {
   "cell_type": "code",
   "execution_count": 34,
   "id": "70c22173",
   "metadata": {
    "execution": {
     "iopub.execute_input": "2021-08-13T17:03:13.908829Z",
     "iopub.status.busy": "2021-08-13T17:03:13.898685Z",
     "iopub.status.idle": "2021-08-13T17:03:13.984101Z",
     "shell.execute_reply": "2021-08-13T17:03:13.983655Z",
     "shell.execute_reply.started": "2021-08-13T00:34:59.686949Z"
    },
    "papermill": {
     "duration": 0.80226,
     "end_time": "2021-08-13T17:03:13.984264",
     "exception": false,
     "start_time": "2021-08-13T17:03:13.182004",
     "status": "completed"
    },
    "tags": []
   },
   "outputs": [],
   "source": [
    "np.savez('./test_t1w' , test_t1w)"
   ]
  },
  {
   "cell_type": "markdown",
   "id": "dcbad8ea",
   "metadata": {
    "papermill": {
     "duration": 0.682839,
     "end_time": "2021-08-13T17:03:15.345519",
     "exception": false,
     "start_time": "2021-08-13T17:03:14.662680",
     "status": "completed"
    },
    "tags": []
   },
   "source": [
    "## Test T1wCE"
   ]
  },
  {
   "cell_type": "code",
   "execution_count": 35,
   "id": "4502624d",
   "metadata": {
    "execution": {
     "iopub.execute_input": "2021-08-13T17:03:16.710914Z",
     "iopub.status.busy": "2021-08-13T17:03:16.710367Z",
     "iopub.status.idle": "2021-08-13T17:05:11.528465Z",
     "shell.execute_reply": "2021-08-13T17:05:11.529086Z",
     "shell.execute_reply.started": "2021-08-13T00:35:06.343792Z"
    },
    "papermill": {
     "duration": 115.50319,
     "end_time": "2021-08-13T17:05:11.529315",
     "exception": false,
     "start_time": "2021-08-13T17:03:16.026125",
     "status": "completed"
    },
    "tags": []
   },
   "outputs": [
    {
     "name": "stderr",
     "output_type": "stream",
     "text": [
      "100%|██████████| 87/87 [01:54<00:00,  1.32s/it]\n"
     ]
    }
   ],
   "source": [
    "test_t1wce_list = []\n",
    "for i in tqdm(test_list):\n",
    "    s_dir = os.path.join(test_dir , i , 'T1wCE')\n",
    "    test_t1wce_list.append(resize(dicomdir2numpy(s_dir)))\n",
    "\n",
    "test_t1wce = np.asarray(test_t1wce_list)"
   ]
  },
  {
   "cell_type": "code",
   "execution_count": 36,
   "id": "8bd0e867",
   "metadata": {
    "execution": {
     "iopub.execute_input": "2021-08-13T17:05:13.051255Z",
     "iopub.status.busy": "2021-08-13T17:05:13.050206Z",
     "iopub.status.idle": "2021-08-13T17:05:13.499806Z",
     "shell.execute_reply": "2021-08-13T17:05:13.499124Z",
     "shell.execute_reply.started": "2021-08-13T00:37:25.323238Z"
    },
    "papermill": {
     "duration": 1.214594,
     "end_time": "2021-08-13T17:05:13.499939",
     "exception": false,
     "start_time": "2021-08-13T17:05:12.285345",
     "status": "completed"
    },
    "tags": []
   },
   "outputs": [],
   "source": [
    "test_t1wce = (test_t1wce - np.mean(train_t1wce)) / np.std(train_t1wce)"
   ]
  },
  {
   "cell_type": "code",
   "execution_count": 37,
   "id": "fc19c013",
   "metadata": {
    "execution": {
     "iopub.execute_input": "2021-08-13T17:05:15.053603Z",
     "iopub.status.busy": "2021-08-13T17:05:15.052435Z",
     "iopub.status.idle": "2021-08-13T17:05:15.074494Z",
     "shell.execute_reply": "2021-08-13T17:05:15.074898Z",
     "shell.execute_reply.started": "2021-08-13T00:37:26.923998Z"
    },
    "papermill": {
     "duration": 0.787748,
     "end_time": "2021-08-13T17:05:15.075055",
     "exception": false,
     "start_time": "2021-08-13T17:05:14.287307",
     "status": "completed"
    },
    "tags": []
   },
   "outputs": [],
   "source": [
    "test_t1wce = test_t1wce.astype('float32')"
   ]
  },
  {
   "cell_type": "code",
   "execution_count": 38,
   "id": "255b9ec0",
   "metadata": {
    "execution": {
     "iopub.execute_input": "2021-08-13T17:05:16.628409Z",
     "iopub.status.busy": "2021-08-13T17:05:16.627509Z",
     "iopub.status.idle": "2021-08-13T17:05:16.709762Z",
     "shell.execute_reply": "2021-08-13T17:05:16.709221Z",
     "shell.execute_reply.started": "2021-08-13T00:37:28.440073Z"
    },
    "papermill": {
     "duration": 0.844685,
     "end_time": "2021-08-13T17:05:16.709884",
     "exception": false,
     "start_time": "2021-08-13T17:05:15.865199",
     "status": "completed"
    },
    "tags": []
   },
   "outputs": [],
   "source": [
    "np.savez('./test_t1wce' , test_t1wce)"
   ]
  },
  {
   "cell_type": "markdown",
   "id": "f7fa89bf",
   "metadata": {
    "papermill": {
     "duration": 0.764059,
     "end_time": "2021-08-13T17:05:18.237276",
     "exception": false,
     "start_time": "2021-08-13T17:05:17.473217",
     "status": "completed"
    },
    "tags": []
   },
   "source": [
    "## Test T2w"
   ]
  },
  {
   "cell_type": "code",
   "execution_count": 39,
   "id": "227c749f",
   "metadata": {
    "execution": {
     "iopub.execute_input": "2021-08-13T17:05:19.787930Z",
     "iopub.status.busy": "2021-08-13T17:05:19.786736Z",
     "iopub.status.idle": "2021-08-13T17:07:28.920796Z",
     "shell.execute_reply": "2021-08-13T17:07:28.920346Z",
     "shell.execute_reply.started": "2021-08-13T00:37:32.066006Z"
    },
    "papermill": {
     "duration": 129.921173,
     "end_time": "2021-08-13T17:07:28.920930",
     "exception": false,
     "start_time": "2021-08-13T17:05:18.999757",
     "status": "completed"
    },
    "tags": []
   },
   "outputs": [
    {
     "name": "stderr",
     "output_type": "stream",
     "text": [
      "100%|██████████| 87/87 [02:09<00:00,  1.48s/it]\n"
     ]
    }
   ],
   "source": [
    "test_t2w_list = []\n",
    "for i in tqdm(test_list):\n",
    "    s_dir = os.path.join(test_dir , i , 'T2w')\n",
    "    test_t2w_list.append(resize(dicomdir2numpy(s_dir)))\n",
    "\n",
    "test_t2w = np.asarray(test_t2w_list)"
   ]
  },
  {
   "cell_type": "code",
   "execution_count": 40,
   "id": "10bda813",
   "metadata": {
    "execution": {
     "iopub.execute_input": "2021-08-13T17:07:30.537926Z",
     "iopub.status.busy": "2021-08-13T17:07:30.536967Z",
     "iopub.status.idle": "2021-08-13T17:07:30.961118Z",
     "shell.execute_reply": "2021-08-13T17:07:30.960145Z",
     "shell.execute_reply.started": "2021-08-13T00:40:21.820487Z"
    },
    "papermill": {
     "duration": 1.228062,
     "end_time": "2021-08-13T17:07:30.961271",
     "exception": false,
     "start_time": "2021-08-13T17:07:29.733209",
     "status": "completed"
    },
    "tags": []
   },
   "outputs": [],
   "source": [
    "test_t2w = (test_t2w - np.mean(train_t2w)) / np.std(train_t2w)"
   ]
  },
  {
   "cell_type": "code",
   "execution_count": 41,
   "id": "786bbf37",
   "metadata": {
    "execution": {
     "iopub.execute_input": "2021-08-13T17:07:32.802578Z",
     "iopub.status.busy": "2021-08-13T17:07:32.800710Z",
     "iopub.status.idle": "2021-08-13T17:07:32.823937Z",
     "shell.execute_reply": "2021-08-13T17:07:32.823422Z",
     "shell.execute_reply.started": "2021-08-13T00:40:24.358154Z"
    },
    "papermill": {
     "duration": 1.014597,
     "end_time": "2021-08-13T17:07:32.824095",
     "exception": false,
     "start_time": "2021-08-13T17:07:31.809498",
     "status": "completed"
    },
    "tags": []
   },
   "outputs": [],
   "source": [
    "test_t2w = test_t2w.astype('float32')"
   ]
  },
  {
   "cell_type": "code",
   "execution_count": 42,
   "id": "3335d1c5",
   "metadata": {
    "execution": {
     "iopub.execute_input": "2021-08-13T17:07:34.396486Z",
     "iopub.status.busy": "2021-08-13T17:07:34.395266Z",
     "iopub.status.idle": "2021-08-13T17:07:34.481099Z",
     "shell.execute_reply": "2021-08-13T17:07:34.480633Z",
     "shell.execute_reply.started": "2021-08-13T00:40:28.25113Z"
    },
    "papermill": {
     "duration": 0.875697,
     "end_time": "2021-08-13T17:07:34.481263",
     "exception": false,
     "start_time": "2021-08-13T17:07:33.605566",
     "status": "completed"
    },
    "tags": []
   },
   "outputs": [],
   "source": [
    "np.savez('./test_t2w' , test_t2w)"
   ]
  },
  {
   "cell_type": "markdown",
   "id": "b56c658b",
   "metadata": {
    "papermill": {
     "duration": 0.777873,
     "end_time": "2021-08-13T17:07:36.035347",
     "exception": false,
     "start_time": "2021-08-13T17:07:35.257474",
     "status": "completed"
    },
    "tags": []
   },
   "source": [
    "# Design Model"
   ]
  },
  {
   "cell_type": "code",
   "execution_count": 43,
   "id": "2b4f50b1",
   "metadata": {
    "execution": {
     "iopub.execute_input": "2021-08-13T17:07:37.597353Z",
     "iopub.status.busy": "2021-08-13T17:07:37.596662Z",
     "iopub.status.idle": "2021-08-13T17:07:37.599380Z",
     "shell.execute_reply": "2021-08-13T17:07:37.599753Z",
     "shell.execute_reply.started": "2021-08-13T01:02:36.954824Z"
    },
    "papermill": {
     "duration": 0.786582,
     "end_time": "2021-08-13T17:07:37.599890",
     "exception": false,
     "start_time": "2021-08-13T17:07:36.813308",
     "status": "completed"
    },
    "tags": []
   },
   "outputs": [],
   "source": [
    "# base model\n",
    "\n",
    "import tensorflow as tf\n",
    "import tensorflow.keras as keras\n",
    "import tensorflow.keras.layers as layers\n",
    "\n",
    "def initial_model(width=64, height=64, depth=32):\n",
    "    \"\"\"Build a 3D convolutional neural network model.\"\"\"\n",
    "\n",
    "    inputs = keras.Input((width, height, depth, 1))\n",
    "\n",
    "    x = layers.Conv3D(filters=64, kernel_size=3, activation=\"relu\")(inputs)\n",
    "    x = layers.MaxPool3D(pool_size=2)(x)\n",
    "    x = layers.BatchNormalization()(x)\n",
    "\n",
    "    x = layers.Conv3D(filters=64, kernel_size=3, activation=\"relu\")(x)\n",
    "    x = layers.MaxPool3D(pool_size=2)(x)\n",
    "    x = layers.BatchNormalization()(x)\n",
    "\n",
    "    x = layers.Conv3D(filters=128, kernel_size=3, activation=\"relu\")(x)\n",
    "    x = layers.MaxPool3D(pool_size=2)(x)\n",
    "    x = layers.BatchNormalization()(x)\n",
    "\n",
    "    x = layers.GlobalAveragePooling3D()(x)\n",
    "    x = layers.Dense(units=512, activation=\"relu\")(x)\n",
    "    x = layers.Dropout(0.3)(x)\n",
    "\n",
    "    # Define the model.\n",
    "    model = keras.Model(inputs, x)\n",
    "    return model"
   ]
  },
  {
   "cell_type": "code",
   "execution_count": 44,
   "id": "97d0b0a6",
   "metadata": {
    "execution": {
     "iopub.execute_input": "2021-08-13T17:07:39.200234Z",
     "iopub.status.busy": "2021-08-13T17:07:39.199618Z",
     "iopub.status.idle": "2021-08-13T17:07:41.388284Z",
     "shell.execute_reply": "2021-08-13T17:07:41.387759Z",
     "shell.execute_reply.started": "2021-08-13T01:02:48.28683Z"
    },
    "papermill": {
     "duration": 3.007266,
     "end_time": "2021-08-13T17:07:41.388423",
     "exception": false,
     "start_time": "2021-08-13T17:07:38.381157",
     "status": "completed"
    },
    "tags": []
   },
   "outputs": [
    {
     "name": "stdout",
     "output_type": "stream",
     "text": [
      "Model: \"model\"\n",
      "_________________________________________________________________\n",
      "Layer (type)                 Output Shape              Param #   \n",
      "=================================================================\n",
      "input_1 (InputLayer)         [(None, 64, 64, 32, 1)]   0         \n",
      "_________________________________________________________________\n",
      "conv3d (Conv3D)              (None, 62, 62, 30, 64)    1792      \n",
      "_________________________________________________________________\n",
      "max_pooling3d (MaxPooling3D) (None, 31, 31, 15, 64)    0         \n",
      "_________________________________________________________________\n",
      "batch_normalization (BatchNo (None, 31, 31, 15, 64)    256       \n",
      "_________________________________________________________________\n",
      "conv3d_1 (Conv3D)            (None, 29, 29, 13, 64)    110656    \n",
      "_________________________________________________________________\n",
      "max_pooling3d_1 (MaxPooling3 (None, 14, 14, 6, 64)     0         \n",
      "_________________________________________________________________\n",
      "batch_normalization_1 (Batch (None, 14, 14, 6, 64)     256       \n",
      "_________________________________________________________________\n",
      "conv3d_2 (Conv3D)            (None, 12, 12, 4, 128)    221312    \n",
      "_________________________________________________________________\n",
      "max_pooling3d_2 (MaxPooling3 (None, 6, 6, 2, 128)      0         \n",
      "_________________________________________________________________\n",
      "batch_normalization_2 (Batch (None, 6, 6, 2, 128)      512       \n",
      "_________________________________________________________________\n",
      "global_average_pooling3d (Gl (None, 128)               0         \n",
      "_________________________________________________________________\n",
      "dense (Dense)                (None, 512)               66048     \n",
      "_________________________________________________________________\n",
      "dropout (Dropout)            (None, 512)               0         \n",
      "=================================================================\n",
      "Total params: 400,832\n",
      "Trainable params: 400,320\n",
      "Non-trainable params: 512\n",
      "_________________________________________________________________\n"
     ]
    }
   ],
   "source": [
    "base_model = initial_model()\n",
    "base_model.summary()"
   ]
  },
  {
   "cell_type": "code",
   "execution_count": 45,
   "id": "ef450447",
   "metadata": {
    "execution": {
     "iopub.execute_input": "2021-08-13T17:07:43.274348Z",
     "iopub.status.busy": "2021-08-13T17:07:43.271063Z",
     "iopub.status.idle": "2021-08-13T17:07:43.417686Z",
     "shell.execute_reply": "2021-08-13T17:07:43.418070Z",
     "shell.execute_reply.started": "2021-08-13T01:02:51.730734Z"
    },
    "papermill": {
     "duration": 1.214857,
     "end_time": "2021-08-13T17:07:43.418259",
     "exception": false,
     "start_time": "2021-08-13T17:07:42.203402",
     "status": "completed"
    },
    "tags": []
   },
   "outputs": [],
   "source": [
    "flair_input =  keras.Input(shape=(64, 64, 32, 1),name='flair_input')\n",
    "t1w_input = keras.Input(shape=(64, 64, 32, 1),name='t1w_input')\n",
    "t1wce_input = keras.Input(shape=(64, 64, 32, 1),name='t1wce_input')\n",
    "t2w_input = keras.Input(shape=(64, 64, 32, 1),name='t2w_input')\n",
    "\n",
    "falir_output = base_model(flair_input)\n",
    "t1w_output = base_model(t1w_input)\n",
    "t1wce_output = base_model(t1wce_input)\n",
    "t2w_output = base_model(t2w_input)\n",
    "\n",
    "merge = layers.concatenate([falir_output,t1w_output,t1wce_output,t2w_output])\n",
    "\n",
    "last = layers.Dense(units=1, activation=\"sigmoid\")(merge)\n",
    "\n",
    "model = keras.Model([flair_input,t1w_input,t1wce_input,t2w_input], last)"
   ]
  },
  {
   "cell_type": "code",
   "execution_count": 46,
   "id": "1d66c148",
   "metadata": {
    "execution": {
     "iopub.execute_input": "2021-08-13T17:07:44.893796Z",
     "iopub.status.busy": "2021-08-13T17:07:44.890533Z",
     "iopub.status.idle": "2021-08-13T17:07:44.901159Z",
     "shell.execute_reply": "2021-08-13T17:07:44.900680Z",
     "shell.execute_reply.started": "2021-08-13T01:02:55.327214Z"
    },
    "papermill": {
     "duration": 0.739878,
     "end_time": "2021-08-13T17:07:44.901294",
     "exception": false,
     "start_time": "2021-08-13T17:07:44.161416",
     "status": "completed"
    },
    "tags": []
   },
   "outputs": [
    {
     "name": "stdout",
     "output_type": "stream",
     "text": [
      "Model: \"model_1\"\n",
      "__________________________________________________________________________________________________\n",
      "Layer (type)                    Output Shape         Param #     Connected to                     \n",
      "==================================================================================================\n",
      "flair_input (InputLayer)        [(None, 64, 64, 32,  0                                            \n",
      "__________________________________________________________________________________________________\n",
      "t1w_input (InputLayer)          [(None, 64, 64, 32,  0                                            \n",
      "__________________________________________________________________________________________________\n",
      "t1wce_input (InputLayer)        [(None, 64, 64, 32,  0                                            \n",
      "__________________________________________________________________________________________________\n",
      "t2w_input (InputLayer)          [(None, 64, 64, 32,  0                                            \n",
      "__________________________________________________________________________________________________\n",
      "model (Functional)              (None, 512)          400832      flair_input[0][0]                \n",
      "                                                                 t1w_input[0][0]                  \n",
      "                                                                 t1wce_input[0][0]                \n",
      "                                                                 t2w_input[0][0]                  \n",
      "__________________________________________________________________________________________________\n",
      "concatenate (Concatenate)       (None, 2048)         0           model[0][0]                      \n",
      "                                                                 model[1][0]                      \n",
      "                                                                 model[2][0]                      \n",
      "                                                                 model[3][0]                      \n",
      "__________________________________________________________________________________________________\n",
      "dense_1 (Dense)                 (None, 1)            2049        concatenate[0][0]                \n",
      "==================================================================================================\n",
      "Total params: 402,881\n",
      "Trainable params: 402,369\n",
      "Non-trainable params: 512\n",
      "__________________________________________________________________________________________________\n"
     ]
    }
   ],
   "source": [
    "model.summary()"
   ]
  },
  {
   "cell_type": "code",
   "execution_count": 47,
   "id": "9711dbf5",
   "metadata": {
    "execution": {
     "iopub.execute_input": "2021-08-13T17:07:46.355023Z",
     "iopub.status.busy": "2021-08-13T17:07:46.354396Z",
     "iopub.status.idle": "2021-08-13T17:07:46.880018Z",
     "shell.execute_reply": "2021-08-13T17:07:46.879603Z",
     "shell.execute_reply.started": "2021-08-13T01:02:58.425552Z"
    },
    "papermill": {
     "duration": 1.252075,
     "end_time": "2021-08-13T17:07:46.880148",
     "exception": false,
     "start_time": "2021-08-13T17:07:45.628073",
     "status": "completed"
    },
    "tags": []
   },
   "outputs": [
    {
     "data": {
      "image/png": "[encoded data removed]",
      "text/plain": [
       "<IPython.core.display.Image object>"
      ]
     },
     "execution_count": 47,
     "metadata": {},
     "output_type": "execute_result"
    }
   ],
   "source": [
    "from keras.utils import plot_model\n",
    "plot_model(model)"
   ]
  },
  {
   "cell_type": "markdown",
   "id": "03e37768",
   "metadata": {
    "papermill": {
     "duration": 0.772659,
     "end_time": "2021-08-13T17:07:48.379809",
     "exception": false,
     "start_time": "2021-08-13T17:07:47.607150",
     "status": "completed"
    },
    "tags": []
   },
   "source": [
    "# Split Train Validation set"
   ]
  },
  {
   "cell_type": "code",
   "execution_count": 48,
   "id": "e08e1fe6",
   "metadata": {
    "execution": {
     "iopub.execute_input": "2021-08-13T17:07:49.871642Z",
     "iopub.status.busy": "2021-08-13T17:07:49.870902Z",
     "iopub.status.idle": "2021-08-13T17:07:49.875489Z",
     "shell.execute_reply": "2021-08-13T17:07:49.875865Z",
     "shell.execute_reply.started": "2021-08-13T00:40:54.105941Z"
    },
    "papermill": {
     "duration": 0.753058,
     "end_time": "2021-08-13T17:07:49.876004",
     "exception": false,
     "start_time": "2021-08-13T17:07:49.122946",
     "status": "completed"
    },
    "tags": []
   },
   "outputs": [
    {
     "data": {
      "text/html": [
       "<div>\n",
       "<style scoped>\n",
       "    .dataframe tbody tr th:only-of-type {\n",
       "        vertical-align: middle;\n",
       "    }\n",
       "\n",
       "    .dataframe tbody tr th {\n",
       "        vertical-align: top;\n",
       "    }\n",
       "\n",
       "    .dataframe thead th {\n",
       "        text-align: right;\n",
       "    }\n",
       "</style>\n",
       "<table border=\"1\" class=\"dataframe\">\n",
       "  <thead>\n",
       "    <tr style=\"text-align: right;\">\n",
       "      <th></th>\n",
       "      <th>MGMT_value</th>\n",
       "    </tr>\n",
       "  </thead>\n",
       "  <tbody>\n",
       "    <tr>\n",
       "      <th>0</th>\n",
       "      <td>1</td>\n",
       "    </tr>\n",
       "    <tr>\n",
       "      <th>1</th>\n",
       "      <td>1</td>\n",
       "    </tr>\n",
       "    <tr>\n",
       "      <th>2</th>\n",
       "      <td>0</td>\n",
       "    </tr>\n",
       "    <tr>\n",
       "      <th>3</th>\n",
       "      <td>1</td>\n",
       "    </tr>\n",
       "    <tr>\n",
       "      <th>4</th>\n",
       "      <td>1</td>\n",
       "    </tr>\n",
       "    <tr>\n",
       "      <th>...</th>\n",
       "      <td>...</td>\n",
       "    </tr>\n",
       "    <tr>\n",
       "      <th>580</th>\n",
       "      <td>1</td>\n",
       "    </tr>\n",
       "    <tr>\n",
       "      <th>581</th>\n",
       "      <td>1</td>\n",
       "    </tr>\n",
       "    <tr>\n",
       "      <th>582</th>\n",
       "      <td>1</td>\n",
       "    </tr>\n",
       "    <tr>\n",
       "      <th>583</th>\n",
       "      <td>0</td>\n",
       "    </tr>\n",
       "    <tr>\n",
       "      <th>584</th>\n",
       "      <td>0</td>\n",
       "    </tr>\n",
       "  </tbody>\n",
       "</table>\n",
       "<p>582 rows × 1 columns</p>\n",
       "</div>"
      ],
      "text/plain": [
       "     MGMT_value\n",
       "0             1\n",
       "1             1\n",
       "2             0\n",
       "3             1\n",
       "4             1\n",
       "..          ...\n",
       "580           1\n",
       "581           1\n",
       "582           1\n",
       "583           0\n",
       "584           0\n",
       "\n",
       "[582 rows x 1 columns]"
      ]
     },
     "execution_count": 48,
     "metadata": {},
     "output_type": "execute_result"
    }
   ],
   "source": [
    "labels = samples_labels.drop(columns='BraTS21ID')\n",
    "labels"
   ]
  },
  {
   "cell_type": "code",
   "execution_count": 49,
   "id": "07c2a610",
   "metadata": {
    "execution": {
     "iopub.execute_input": "2021-08-13T17:07:51.365809Z",
     "iopub.status.busy": "2021-08-13T17:07:51.364914Z",
     "iopub.status.idle": "2021-08-13T17:07:51.367643Z",
     "shell.execute_reply": "2021-08-13T17:07:51.367209Z",
     "shell.execute_reply.started": "2021-08-13T00:40:56.999232Z"
    },
    "papermill": {
     "duration": 0.729693,
     "end_time": "2021-08-13T17:07:51.367752",
     "exception": false,
     "start_time": "2021-08-13T17:07:50.638059",
     "status": "completed"
    },
    "tags": []
   },
   "outputs": [],
   "source": [
    "labels = labels.values"
   ]
  },
  {
   "cell_type": "code",
   "execution_count": 50,
   "id": "47070751",
   "metadata": {
    "execution": {
     "iopub.execute_input": "2021-08-13T17:07:52.823685Z",
     "iopub.status.busy": "2021-08-13T17:07:52.822963Z",
     "iopub.status.idle": "2021-08-13T17:07:52.973647Z",
     "shell.execute_reply": "2021-08-13T17:07:52.972632Z",
     "shell.execute_reply.started": "2021-08-13T00:40:59.16317Z"
    },
    "papermill": {
     "duration": 0.881979,
     "end_time": "2021-08-13T17:07:52.973772",
     "exception": false,
     "start_time": "2021-08-13T17:07:52.091793",
     "status": "completed"
    },
    "tags": []
   },
   "outputs": [],
   "source": [
    "from sklearn.model_selection import StratifiedKFold\n",
    "\n",
    "skf = StratifiedKFold(n_splits=10 , shuffle = True , random_state = 42)\n",
    "train_indices = []\n",
    "test_indices = []\n",
    "\n",
    "for train_index, test_index in skf.split(train_flair, labels):\n",
    "    train_indices.append(train_index)\n",
    "    test_indices.append(test_index)"
   ]
  },
  {
   "cell_type": "code",
   "execution_count": 51,
   "id": "9d397e50",
   "metadata": {
    "execution": {
     "iopub.execute_input": "2021-08-13T17:07:54.683532Z",
     "iopub.status.busy": "2021-08-13T17:07:54.682784Z",
     "iopub.status.idle": "2021-08-13T17:07:54.686170Z",
     "shell.execute_reply": "2021-08-13T17:07:54.686606Z",
     "shell.execute_reply.started": "2021-08-13T00:41:01.958681Z"
    },
    "papermill": {
     "duration": 0.98731,
     "end_time": "2021-08-13T17:07:54.686740",
     "exception": false,
     "start_time": "2021-08-13T17:07:53.699430",
     "status": "completed"
    },
    "tags": []
   },
   "outputs": [
    {
     "name": "stdout",
     "output_type": "stream",
     "text": [
      "523 | 59\n"
     ]
    }
   ],
   "source": [
    "idx1 = train_indices[0]\n",
    "idx2 = test_indices[0]\n",
    "\n",
    "print(len(idx1) , '|' , len(idx2))"
   ]
  },
  {
   "cell_type": "markdown",
   "id": "af8d7606",
   "metadata": {
    "papermill": {
     "duration": 0.746228,
     "end_time": "2021-08-13T17:07:56.298696",
     "exception": false,
     "start_time": "2021-08-13T17:07:55.552468",
     "status": "completed"
    },
    "tags": []
   },
   "source": [
    "# Find Optimal LR"
   ]
  },
  {
   "cell_type": "code",
   "execution_count": 52,
   "id": "93bd7108",
   "metadata": {
    "execution": {
     "iopub.execute_input": "2021-08-13T17:07:57.798889Z",
     "iopub.status.busy": "2021-08-13T17:07:57.798009Z",
     "iopub.status.idle": "2021-08-13T17:07:57.800308Z",
     "shell.execute_reply": "2021-08-13T17:07:57.800682Z",
     "shell.execute_reply.started": "2021-08-13T00:41:16.913631Z"
    },
    "papermill": {
     "duration": 0.754103,
     "end_time": "2021-08-13T17:07:57.800818",
     "exception": false,
     "start_time": "2021-08-13T17:07:57.046715",
     "status": "completed"
    },
    "tags": []
   },
   "outputs": [],
   "source": [
    "# finding appropreate learning rate\n",
    "\n",
    "#lr_schedule = tf.keras.callbacks.LearningRateScheduler(\n",
    "#    lambda epoch:1e-8 * 10 ** (epoch/20)\n",
    "#)\n",
    "\n",
    "#model.compile(optimizer='adam' , loss='binary_crossentropy' , metrics=['acc'])"
   ]
  },
  {
   "cell_type": "code",
   "execution_count": 53,
   "id": "779cae21",
   "metadata": {
    "execution": {
     "iopub.execute_input": "2021-08-13T17:07:59.355628Z",
     "iopub.status.busy": "2021-08-13T17:07:59.354777Z",
     "iopub.status.idle": "2021-08-13T17:07:59.357523Z",
     "shell.execute_reply": "2021-08-13T17:07:59.356930Z",
     "shell.execute_reply.started": "2021-08-13T00:41:27.50258Z"
    },
    "papermill": {
     "duration": 0.761697,
     "end_time": "2021-08-13T17:07:59.357650",
     "exception": false,
     "start_time": "2021-08-13T17:07:58.595953",
     "status": "completed"
    },
    "tags": []
   },
   "outputs": [],
   "source": [
    "#history = model.fit([train_flair[idx1], train_t1w[idx1], train_t1wce[idx1], train_t2w[idx1]] ,\n",
    "#                 labels[idx1],\n",
    "#                 epochs = 100,\n",
    "#                 validation_data = ([train_flair[idx2], train_t1w[idx2], train_t1wce[idx2], train_t2w[idx2]],\n",
    "#                                    labels[idx2]),\n",
    "#                 callbacks=[lr_schedule],\n",
    "#                    batch_size = 16,\n",
    "#                 verbose = 1)"
   ]
  },
  {
   "cell_type": "code",
   "execution_count": 54,
   "id": "9a01fd86",
   "metadata": {
    "execution": {
     "iopub.execute_input": "2021-08-13T17:08:00.841860Z",
     "iopub.status.busy": "2021-08-13T17:08:00.841146Z",
     "iopub.status.idle": "2021-08-13T17:08:00.844398Z",
     "shell.execute_reply": "2021-08-13T17:08:00.844819Z",
     "shell.execute_reply.started": "2021-08-13T01:00:30.465677Z"
    },
    "papermill": {
     "duration": 0.745372,
     "end_time": "2021-08-13T17:08:00.844956",
     "exception": false,
     "start_time": "2021-08-13T17:08:00.099584",
     "status": "completed"
    },
    "tags": []
   },
   "outputs": [],
   "source": [
    "#plot learning rate schedule batch_size = 32\n",
    "\n",
    "#import matplotlib.pyplot as plt\n",
    "\n",
    "#lrs = 1e-8 * (10**(np.arange(100)/20))\n",
    "#plt.semilogx(lrs , history.history['val_loss'])\n",
    "#plt.title('learning rate vs validation loss (10e-8 to 10e-3)')\n",
    "#plt.figure()\n",
    "#plt.semilogx(lrs , history.history['loss'])\n",
    "#plt.title('learning rate vs loss (10e-8 to 10e-3)')\n",
    "#plt.figure()\n",
    "\n",
    "#plt.show()"
   ]
  },
  {
   "cell_type": "markdown",
   "id": "13d1e4e4",
   "metadata": {
    "papermill": {
     "duration": 1.10382,
     "end_time": "2021-08-13T17:08:02.768805",
     "exception": false,
     "start_time": "2021-08-13T17:08:01.664985",
     "status": "completed"
    },
    "tags": []
   },
   "source": [
    "# Train Model"
   ]
  },
  {
   "cell_type": "code",
   "execution_count": 55,
   "id": "b550bd51",
   "metadata": {
    "execution": {
     "iopub.execute_input": "2021-08-13T17:08:04.266423Z",
     "iopub.status.busy": "2021-08-13T17:08:04.265575Z",
     "iopub.status.idle": "2021-08-13T17:08:04.271562Z",
     "shell.execute_reply": "2021-08-13T17:08:04.271931Z",
     "shell.execute_reply.started": "2021-08-13T01:24:44.00114Z"
    },
    "papermill": {
     "duration": 0.76756,
     "end_time": "2021-08-13T17:08:04.272069",
     "exception": false,
     "start_time": "2021-08-13T17:08:03.504509",
     "status": "completed"
    },
    "tags": []
   },
   "outputs": [],
   "source": [
    "model.compile(optimizer=tf.keras.optimizers.Adam(learning_rate=1e-6) , \n",
    "              loss='binary_crossentropy' , metrics=['acc'])\n",
    "best_callback = tf.keras.callbacks.ModelCheckpoint('./model.h5', monitor='val_loss',\n",
    "                                                   save_best_only=True)"
   ]
  },
  {
   "cell_type": "code",
   "execution_count": 56,
   "id": "b86c9bd9",
   "metadata": {
    "execution": {
     "iopub.execute_input": "2021-08-13T17:08:05.992715Z",
     "iopub.status.busy": "2021-08-13T17:08:05.991392Z",
     "iopub.status.idle": "2021-08-13T17:59:40.263709Z",
     "shell.execute_reply": "2021-08-13T17:59:40.263217Z",
     "shell.execute_reply.started": "2021-08-13T01:24:50.330723Z"
    },
    "papermill": {
     "duration": 3095.049484,
     "end_time": "2021-08-13T17:59:40.263930",
     "exception": false,
     "start_time": "2021-08-13T17:08:05.214446",
     "status": "completed"
    },
    "tags": []
   },
   "outputs": [
    {
     "name": "stdout",
     "output_type": "stream",
     "text": [
      "Epoch 1/300\n",
      "17/17 [==============================] - 21s 677ms/step - loss: 0.7112 - acc: 0.5065 - val_loss: 0.6975 - val_acc: 0.4915\n",
      "Epoch 2/300\n",
      "17/17 [==============================] - 10s 604ms/step - loss: 0.7087 - acc: 0.5250 - val_loss: 0.7084 - val_acc: 0.4746\n",
      "Epoch 3/300\n",
      "17/17 [==============================] - 10s 608ms/step - loss: 0.7038 - acc: 0.5035 - val_loss: 0.7167 - val_acc: 0.4915\n",
      "Epoch 4/300\n",
      "17/17 [==============================] - 10s 604ms/step - loss: 0.7081 - acc: 0.4708 - val_loss: 0.7210 - val_acc: 0.4915\n",
      "Epoch 5/300\n",
      "17/17 [==============================] - 10s 606ms/step - loss: 0.6917 - acc: 0.5371 - val_loss: 0.7219 - val_acc: 0.4915\n",
      "Epoch 6/300\n",
      "17/17 [==============================] - 10s 603ms/step - loss: 0.6817 - acc: 0.5977 - val_loss: 0.7177 - val_acc: 0.4746\n",
      "Epoch 7/300\n",
      "17/17 [==============================] - 10s 603ms/step - loss: 0.7031 - acc: 0.4807 - val_loss: 0.7109 - val_acc: 0.5085\n",
      "Epoch 8/300\n",
      "17/17 [==============================] - 10s 604ms/step - loss: 0.6868 - acc: 0.5288 - val_loss: 0.7036 - val_acc: 0.5085\n",
      "Epoch 9/300\n",
      "17/17 [==============================] - 10s 602ms/step - loss: 0.6960 - acc: 0.5407 - val_loss: 0.6987 - val_acc: 0.5424\n",
      "Epoch 10/300\n",
      "17/17 [==============================] - 10s 604ms/step - loss: 0.6889 - acc: 0.5310 - val_loss: 0.6957 - val_acc: 0.5593\n",
      "Epoch 11/300\n",
      "17/17 [==============================] - 10s 604ms/step - loss: 0.6961 - acc: 0.5081 - val_loss: 0.6941 - val_acc: 0.5763\n",
      "Epoch 12/300\n",
      "17/17 [==============================] - 10s 601ms/step - loss: 0.6952 - acc: 0.5520 - val_loss: 0.6922 - val_acc: 0.5763\n",
      "Epoch 13/300\n",
      "17/17 [==============================] - 10s 602ms/step - loss: 0.6938 - acc: 0.5250 - val_loss: 0.6913 - val_acc: 0.5763\n",
      "Epoch 14/300\n",
      "17/17 [==============================] - 10s 615ms/step - loss: 0.6779 - acc: 0.6018 - val_loss: 0.6908 - val_acc: 0.5763\n",
      "Epoch 15/300\n",
      "17/17 [==============================] - 10s 603ms/step - loss: 0.6967 - acc: 0.5442 - val_loss: 0.6903 - val_acc: 0.5763\n",
      "Epoch 16/300\n",
      "17/17 [==============================] - 10s 604ms/step - loss: 0.6796 - acc: 0.5522 - val_loss: 0.6901 - val_acc: 0.5593\n",
      "Epoch 17/300\n",
      "17/17 [==============================] - 10s 604ms/step - loss: 0.7015 - acc: 0.5122 - val_loss: 0.6892 - val_acc: 0.5424\n",
      "Epoch 18/300\n",
      "17/17 [==============================] - 10s 606ms/step - loss: 0.7002 - acc: 0.5315 - val_loss: 0.6890 - val_acc: 0.5424\n",
      "Epoch 19/300\n",
      "17/17 [==============================] - 10s 603ms/step - loss: 0.6896 - acc: 0.5626 - val_loss: 0.6890 - val_acc: 0.5424\n",
      "Epoch 20/300\n",
      "17/17 [==============================] - 10s 601ms/step - loss: 0.6762 - acc: 0.5674 - val_loss: 0.6884 - val_acc: 0.5424\n",
      "Epoch 21/300\n",
      "17/17 [==============================] - 10s 602ms/step - loss: 0.6825 - acc: 0.5681 - val_loss: 0.6880 - val_acc: 0.5424\n",
      "Epoch 22/300\n",
      "17/17 [==============================] - 10s 607ms/step - loss: 0.6874 - acc: 0.5747 - val_loss: 0.6881 - val_acc: 0.5424\n",
      "Epoch 23/300\n",
      "17/17 [==============================] - 10s 602ms/step - loss: 0.6944 - acc: 0.5278 - val_loss: 0.6881 - val_acc: 0.5424\n",
      "Epoch 24/300\n",
      "17/17 [==============================] - 10s 603ms/step - loss: 0.6796 - acc: 0.5688 - val_loss: 0.6882 - val_acc: 0.5424\n",
      "Epoch 25/300\n",
      "17/17 [==============================] - 10s 608ms/step - loss: 0.6846 - acc: 0.5578 - val_loss: 0.6875 - val_acc: 0.5424\n",
      "Epoch 26/300\n",
      "17/17 [==============================] - 10s 600ms/step - loss: 0.6884 - acc: 0.5799 - val_loss: 0.6873 - val_acc: 0.5424\n",
      "Epoch 27/300\n",
      "17/17 [==============================] - 10s 604ms/step - loss: 0.6956 - acc: 0.5427 - val_loss: 0.6868 - val_acc: 0.5424\n",
      "Epoch 28/300\n",
      "17/17 [==============================] - 10s 602ms/step - loss: 0.6821 - acc: 0.5764 - val_loss: 0.6865 - val_acc: 0.5424\n",
      "Epoch 29/300\n",
      "17/17 [==============================] - 10s 602ms/step - loss: 0.6894 - acc: 0.5523 - val_loss: 0.6867 - val_acc: 0.5254\n",
      "Epoch 30/300\n",
      "17/17 [==============================] - 10s 607ms/step - loss: 0.6882 - acc: 0.5514 - val_loss: 0.6867 - val_acc: 0.5254\n",
      "Epoch 31/300\n",
      "17/17 [==============================] - 10s 601ms/step - loss: 0.6858 - acc: 0.5696 - val_loss: 0.6860 - val_acc: 0.5254\n",
      "Epoch 32/300\n",
      "17/17 [==============================] - 10s 601ms/step - loss: 0.6875 - acc: 0.5305 - val_loss: 0.6858 - val_acc: 0.5254\n",
      "Epoch 33/300\n",
      "17/17 [==============================] - 10s 604ms/step - loss: 0.6812 - acc: 0.5720 - val_loss: 0.6853 - val_acc: 0.5254\n",
      "Epoch 34/300\n",
      "17/17 [==============================] - 10s 602ms/step - loss: 0.6720 - acc: 0.5714 - val_loss: 0.6851 - val_acc: 0.5254\n",
      "Epoch 35/300\n",
      "17/17 [==============================] - 10s 603ms/step - loss: 0.6892 - acc: 0.5391 - val_loss: 0.6857 - val_acc: 0.5254\n",
      "Epoch 36/300\n",
      "17/17 [==============================] - 10s 602ms/step - loss: 0.6891 - acc: 0.5144 - val_loss: 0.6858 - val_acc: 0.5254\n",
      "Epoch 37/300\n",
      "17/17 [==============================] - 10s 603ms/step - loss: 0.6799 - acc: 0.5490 - val_loss: 0.6857 - val_acc: 0.5254\n",
      "Epoch 38/300\n",
      "17/17 [==============================] - 10s 601ms/step - loss: 0.6780 - acc: 0.5584 - val_loss: 0.6859 - val_acc: 0.5254\n",
      "Epoch 39/300\n",
      "17/17 [==============================] - 10s 603ms/step - loss: 0.6817 - acc: 0.5374 - val_loss: 0.6858 - val_acc: 0.5254\n",
      "Epoch 40/300\n",
      "17/17 [==============================] - 10s 604ms/step - loss: 0.6688 - acc: 0.5597 - val_loss: 0.6856 - val_acc: 0.5254\n",
      "Epoch 41/300\n",
      "17/17 [==============================] - 10s 600ms/step - loss: 0.6759 - acc: 0.5764 - val_loss: 0.6858 - val_acc: 0.5254\n",
      "Epoch 42/300\n",
      "17/17 [==============================] - 10s 602ms/step - loss: 0.6841 - acc: 0.5481 - val_loss: 0.6855 - val_acc: 0.5254\n",
      "Epoch 43/300\n",
      "17/17 [==============================] - 10s 602ms/step - loss: 0.6726 - acc: 0.5571 - val_loss: 0.6848 - val_acc: 0.5254\n",
      "Epoch 44/300\n",
      "17/17 [==============================] - 10s 604ms/step - loss: 0.6689 - acc: 0.5900 - val_loss: 0.6849 - val_acc: 0.5424\n",
      "Epoch 45/300\n",
      "17/17 [==============================] - 10s 602ms/step - loss: 0.6663 - acc: 0.5751 - val_loss: 0.6851 - val_acc: 0.5424\n",
      "Epoch 46/300\n",
      "17/17 [==============================] - 10s 605ms/step - loss: 0.6737 - acc: 0.5840 - val_loss: 0.6852 - val_acc: 0.5424\n",
      "Epoch 47/300\n",
      "17/17 [==============================] - 10s 603ms/step - loss: 0.6722 - acc: 0.5638 - val_loss: 0.6853 - val_acc: 0.5424\n",
      "Epoch 48/300\n",
      "17/17 [==============================] - 10s 603ms/step - loss: 0.6701 - acc: 0.5868 - val_loss: 0.6850 - val_acc: 0.5424\n",
      "Epoch 49/300\n",
      "17/17 [==============================] - 10s 605ms/step - loss: 0.6761 - acc: 0.5825 - val_loss: 0.6848 - val_acc: 0.5424\n",
      "Epoch 50/300\n",
      "17/17 [==============================] - 10s 602ms/step - loss: 0.6794 - acc: 0.5589 - val_loss: 0.6845 - val_acc: 0.5424\n",
      "Epoch 51/300\n",
      "17/17 [==============================] - 10s 602ms/step - loss: 0.6628 - acc: 0.6077 - val_loss: 0.6850 - val_acc: 0.5424\n",
      "Epoch 52/300\n",
      "17/17 [==============================] - 10s 610ms/step - loss: 0.6861 - acc: 0.5693 - val_loss: 0.6852 - val_acc: 0.5424\n",
      "Epoch 53/300\n",
      "17/17 [==============================] - 10s 601ms/step - loss: 0.6621 - acc: 0.6169 - val_loss: 0.6851 - val_acc: 0.5424\n",
      "Epoch 54/300\n",
      "17/17 [==============================] - 10s 603ms/step - loss: 0.6600 - acc: 0.6029 - val_loss: 0.6852 - val_acc: 0.5424\n",
      "Epoch 55/300\n",
      "17/17 [==============================] - 10s 606ms/step - loss: 0.6825 - acc: 0.5581 - val_loss: 0.6846 - val_acc: 0.5424\n",
      "Epoch 56/300\n",
      "17/17 [==============================] - 10s 603ms/step - loss: 0.6748 - acc: 0.5657 - val_loss: 0.6847 - val_acc: 0.5424\n",
      "Epoch 57/300\n",
      "17/17 [==============================] - 10s 604ms/step - loss: 0.6631 - acc: 0.6250 - val_loss: 0.6847 - val_acc: 0.5424\n",
      "Epoch 58/300\n",
      "17/17 [==============================] - 10s 603ms/step - loss: 0.6684 - acc: 0.5957 - val_loss: 0.6848 - val_acc: 0.5424\n",
      "Epoch 59/300\n",
      "17/17 [==============================] - 10s 608ms/step - loss: 0.6787 - acc: 0.5682 - val_loss: 0.6846 - val_acc: 0.5424\n",
      "Epoch 60/300\n",
      "17/17 [==============================] - 10s 604ms/step - loss: 0.6784 - acc: 0.5853 - val_loss: 0.6844 - val_acc: 0.5593\n",
      "Epoch 61/300\n",
      "17/17 [==============================] - 10s 603ms/step - loss: 0.6714 - acc: 0.5986 - val_loss: 0.6846 - val_acc: 0.5593\n",
      "Epoch 62/300\n",
      "17/17 [==============================] - 10s 609ms/step - loss: 0.6629 - acc: 0.5960 - val_loss: 0.6841 - val_acc: 0.5763\n",
      "Epoch 63/300\n",
      "17/17 [==============================] - 10s 601ms/step - loss: 0.6767 - acc: 0.5719 - val_loss: 0.6843 - val_acc: 0.5763\n",
      "Epoch 64/300\n",
      "17/17 [==============================] - 10s 608ms/step - loss: 0.6615 - acc: 0.6061 - val_loss: 0.6845 - val_acc: 0.5593\n",
      "Epoch 65/300\n",
      "17/17 [==============================] - 10s 606ms/step - loss: 0.6585 - acc: 0.5874 - val_loss: 0.6847 - val_acc: 0.5424\n",
      "Epoch 66/300\n",
      "17/17 [==============================] - 10s 604ms/step - loss: 0.6772 - acc: 0.5897 - val_loss: 0.6845 - val_acc: 0.5424\n",
      "Epoch 67/300\n",
      "17/17 [==============================] - 10s 605ms/step - loss: 0.6728 - acc: 0.5662 - val_loss: 0.6841 - val_acc: 0.5424\n",
      "Epoch 68/300\n",
      "17/17 [==============================] - 10s 602ms/step - loss: 0.6578 - acc: 0.5934 - val_loss: 0.6841 - val_acc: 0.5424\n",
      "Epoch 69/300\n",
      "17/17 [==============================] - 10s 602ms/step - loss: 0.6635 - acc: 0.6243 - val_loss: 0.6846 - val_acc: 0.5424\n",
      "Epoch 70/300\n",
      "17/17 [==============================] - 10s 606ms/step - loss: 0.6692 - acc: 0.6086 - val_loss: 0.6841 - val_acc: 0.5593\n",
      "Epoch 71/300\n",
      "17/17 [==============================] - 10s 608ms/step - loss: 0.6758 - acc: 0.5733 - val_loss: 0.6838 - val_acc: 0.5593\n",
      "Epoch 72/300\n",
      "17/17 [==============================] - 10s 604ms/step - loss: 0.6723 - acc: 0.5745 - val_loss: 0.6839 - val_acc: 0.5593\n",
      "Epoch 73/300\n",
      "17/17 [==============================] - 10s 604ms/step - loss: 0.6636 - acc: 0.5864 - val_loss: 0.6849 - val_acc: 0.5424\n",
      "Epoch 74/300\n",
      "17/17 [==============================] - 10s 604ms/step - loss: 0.6694 - acc: 0.5664 - val_loss: 0.6846 - val_acc: 0.5424\n",
      "Epoch 75/300\n",
      "17/17 [==============================] - 10s 604ms/step - loss: 0.6767 - acc: 0.5971 - val_loss: 0.6838 - val_acc: 0.5593\n",
      "Epoch 76/300\n",
      "17/17 [==============================] - 10s 601ms/step - loss: 0.6596 - acc: 0.5984 - val_loss: 0.6839 - val_acc: 0.5593\n",
      "Epoch 77/300\n",
      "17/17 [==============================] - 10s 603ms/step - loss: 0.6787 - acc: 0.5885 - val_loss: 0.6837 - val_acc: 0.5763\n",
      "Epoch 78/300\n",
      "17/17 [==============================] - 10s 603ms/step - loss: 0.6550 - acc: 0.5926 - val_loss: 0.6836 - val_acc: 0.5763\n",
      "Epoch 79/300\n",
      "17/17 [==============================] - 10s 600ms/step - loss: 0.6741 - acc: 0.5840 - val_loss: 0.6837 - val_acc: 0.5763\n",
      "Epoch 80/300\n",
      "17/17 [==============================] - 10s 605ms/step - loss: 0.6655 - acc: 0.6046 - val_loss: 0.6840 - val_acc: 0.5763\n",
      "Epoch 81/300\n",
      "17/17 [==============================] - 10s 602ms/step - loss: 0.6596 - acc: 0.5907 - val_loss: 0.6841 - val_acc: 0.5763\n",
      "Epoch 82/300\n",
      "17/17 [==============================] - 10s 603ms/step - loss: 0.6430 - acc: 0.6386 - val_loss: 0.6839 - val_acc: 0.5763\n",
      "Epoch 83/300\n",
      "17/17 [==============================] - 10s 606ms/step - loss: 0.6599 - acc: 0.6100 - val_loss: 0.6837 - val_acc: 0.5763\n",
      "Epoch 84/300\n",
      "17/17 [==============================] - 10s 600ms/step - loss: 0.6514 - acc: 0.6076 - val_loss: 0.6835 - val_acc: 0.5763\n",
      "Epoch 85/300\n",
      "17/17 [==============================] - 10s 602ms/step - loss: 0.6548 - acc: 0.5879 - val_loss: 0.6833 - val_acc: 0.5763\n",
      "Epoch 86/300\n",
      "17/17 [==============================] - 10s 603ms/step - loss: 0.6654 - acc: 0.5887 - val_loss: 0.6833 - val_acc: 0.5763\n",
      "Epoch 87/300\n",
      "17/17 [==============================] - 10s 602ms/step - loss: 0.6687 - acc: 0.5915 - val_loss: 0.6835 - val_acc: 0.5763\n",
      "Epoch 88/300\n",
      "17/17 [==============================] - 10s 605ms/step - loss: 0.6680 - acc: 0.5860 - val_loss: 0.6834 - val_acc: 0.5763\n",
      "Epoch 89/300\n",
      "17/17 [==============================] - 10s 604ms/step - loss: 0.6552 - acc: 0.6396 - val_loss: 0.6836 - val_acc: 0.5763\n",
      "Epoch 90/300\n",
      "17/17 [==============================] - 10s 603ms/step - loss: 0.6804 - acc: 0.5749 - val_loss: 0.6837 - val_acc: 0.5763\n",
      "Epoch 91/300\n",
      "17/17 [==============================] - 10s 602ms/step - loss: 0.6600 - acc: 0.5933 - val_loss: 0.6835 - val_acc: 0.5763\n",
      "Epoch 92/300\n",
      "17/17 [==============================] - 10s 606ms/step - loss: 0.6581 - acc: 0.5852 - val_loss: 0.6839 - val_acc: 0.5763\n",
      "Epoch 93/300\n",
      "17/17 [==============================] - 10s 601ms/step - loss: 0.6581 - acc: 0.6066 - val_loss: 0.6833 - val_acc: 0.5763\n",
      "Epoch 94/300\n",
      "17/17 [==============================] - 10s 601ms/step - loss: 0.6563 - acc: 0.6011 - val_loss: 0.6833 - val_acc: 0.5763\n",
      "Epoch 95/300\n",
      "17/17 [==============================] - 10s 611ms/step - loss: 0.6532 - acc: 0.6072 - val_loss: 0.6833 - val_acc: 0.5763\n",
      "Epoch 96/300\n",
      "17/17 [==============================] - 10s 604ms/step - loss: 0.6658 - acc: 0.5541 - val_loss: 0.6836 - val_acc: 0.5763\n",
      "Epoch 97/300\n",
      "17/17 [==============================] - 10s 603ms/step - loss: 0.6619 - acc: 0.6002 - val_loss: 0.6836 - val_acc: 0.5763\n",
      "Epoch 98/300\n",
      "17/17 [==============================] - 10s 603ms/step - loss: 0.6717 - acc: 0.5920 - val_loss: 0.6834 - val_acc: 0.5763\n",
      "Epoch 99/300\n",
      "17/17 [==============================] - 10s 603ms/step - loss: 0.6385 - acc: 0.6559 - val_loss: 0.6835 - val_acc: 0.5763\n",
      "Epoch 100/300\n",
      "17/17 [==============================] - 10s 602ms/step - loss: 0.6514 - acc: 0.6163 - val_loss: 0.6838 - val_acc: 0.5763\n",
      "Epoch 101/300\n",
      "17/17 [==============================] - 10s 603ms/step - loss: 0.6506 - acc: 0.6417 - val_loss: 0.6839 - val_acc: 0.5763\n",
      "Epoch 102/300\n",
      "17/17 [==============================] - 10s 604ms/step - loss: 0.6723 - acc: 0.5955 - val_loss: 0.6836 - val_acc: 0.5763\n",
      "Epoch 103/300\n",
      "17/17 [==============================] - 10s 601ms/step - loss: 0.6318 - acc: 0.6738 - val_loss: 0.6839 - val_acc: 0.5763\n",
      "Epoch 104/300\n",
      "17/17 [==============================] - 10s 602ms/step - loss: 0.6489 - acc: 0.6243 - val_loss: 0.6837 - val_acc: 0.5763\n",
      "Epoch 105/300\n",
      "17/17 [==============================] - 10s 602ms/step - loss: 0.6554 - acc: 0.5881 - val_loss: 0.6837 - val_acc: 0.5932\n",
      "Epoch 106/300\n",
      "17/17 [==============================] - 10s 601ms/step - loss: 0.6621 - acc: 0.5904 - val_loss: 0.6835 - val_acc: 0.5932\n",
      "Epoch 107/300\n",
      "17/17 [==============================] - 10s 600ms/step - loss: 0.6534 - acc: 0.6163 - val_loss: 0.6835 - val_acc: 0.5932\n",
      "Epoch 108/300\n",
      "17/17 [==============================] - 10s 605ms/step - loss: 0.6542 - acc: 0.5865 - val_loss: 0.6835 - val_acc: 0.5932\n",
      "Epoch 109/300\n",
      "17/17 [==============================] - 10s 602ms/step - loss: 0.6557 - acc: 0.5747 - val_loss: 0.6836 - val_acc: 0.5932\n",
      "Epoch 110/300\n",
      "17/17 [==============================] - 10s 604ms/step - loss: 0.6558 - acc: 0.6072 - val_loss: 0.6835 - val_acc: 0.5932\n",
      "Epoch 111/300\n",
      "17/17 [==============================] - 10s 607ms/step - loss: 0.6617 - acc: 0.5752 - val_loss: 0.6835 - val_acc: 0.5932\n",
      "Epoch 112/300\n",
      "17/17 [==============================] - 10s 602ms/step - loss: 0.6545 - acc: 0.5882 - val_loss: 0.6831 - val_acc: 0.5932\n",
      "Epoch 113/300\n",
      "17/17 [==============================] - 10s 600ms/step - loss: 0.6429 - acc: 0.6357 - val_loss: 0.6828 - val_acc: 0.5932\n",
      "Epoch 114/300\n",
      "17/17 [==============================] - 10s 605ms/step - loss: 0.6543 - acc: 0.6068 - val_loss: 0.6829 - val_acc: 0.5932\n",
      "Epoch 115/300\n",
      "17/17 [==============================] - 10s 604ms/step - loss: 0.6568 - acc: 0.6233 - val_loss: 0.6829 - val_acc: 0.5932\n",
      "Epoch 116/300\n",
      "17/17 [==============================] - 10s 602ms/step - loss: 0.6448 - acc: 0.6111 - val_loss: 0.6831 - val_acc: 0.5932\n",
      "Epoch 117/300\n",
      "17/17 [==============================] - 10s 605ms/step - loss: 0.6495 - acc: 0.6065 - val_loss: 0.6829 - val_acc: 0.5932\n",
      "Epoch 118/300\n",
      "17/17 [==============================] - 10s 604ms/step - loss: 0.6568 - acc: 0.5991 - val_loss: 0.6825 - val_acc: 0.5932\n",
      "Epoch 119/300\n",
      "17/17 [==============================] - 10s 601ms/step - loss: 0.6578 - acc: 0.6036 - val_loss: 0.6824 - val_acc: 0.5932\n",
      "Epoch 120/300\n",
      "17/17 [==============================] - 10s 603ms/step - loss: 0.6546 - acc: 0.6199 - val_loss: 0.6827 - val_acc: 0.5932\n",
      "Epoch 121/300\n",
      "17/17 [==============================] - 10s 607ms/step - loss: 0.6487 - acc: 0.6050 - val_loss: 0.6833 - val_acc: 0.5932\n",
      "Epoch 122/300\n",
      "17/17 [==============================] - 10s 600ms/step - loss: 0.6522 - acc: 0.6327 - val_loss: 0.6835 - val_acc: 0.5932\n",
      "Epoch 123/300\n",
      "17/17 [==============================] - 10s 602ms/step - loss: 0.6462 - acc: 0.6188 - val_loss: 0.6831 - val_acc: 0.5932\n",
      "Epoch 124/300\n",
      "17/17 [==============================] - 10s 602ms/step - loss: 0.6513 - acc: 0.6158 - val_loss: 0.6829 - val_acc: 0.5932\n",
      "Epoch 125/300\n",
      "17/17 [==============================] - 10s 604ms/step - loss: 0.6490 - acc: 0.6312 - val_loss: 0.6831 - val_acc: 0.5932\n",
      "Epoch 126/300\n",
      "17/17 [==============================] - 10s 599ms/step - loss: 0.6427 - acc: 0.6344 - val_loss: 0.6831 - val_acc: 0.5932\n",
      "Epoch 127/300\n",
      "17/17 [==============================] - 10s 604ms/step - loss: 0.6521 - acc: 0.6292 - val_loss: 0.6828 - val_acc: 0.5932\n",
      "Epoch 128/300\n",
      "17/17 [==============================] - 10s 605ms/step - loss: 0.6403 - acc: 0.6285 - val_loss: 0.6834 - val_acc: 0.5932\n",
      "Epoch 129/300\n",
      "17/17 [==============================] - 10s 604ms/step - loss: 0.6696 - acc: 0.5967 - val_loss: 0.6833 - val_acc: 0.5932\n",
      "Epoch 130/300\n",
      "17/17 [==============================] - 10s 607ms/step - loss: 0.6672 - acc: 0.5716 - val_loss: 0.6835 - val_acc: 0.5932\n",
      "Epoch 131/300\n",
      "17/17 [==============================] - 10s 605ms/step - loss: 0.6523 - acc: 0.6268 - val_loss: 0.6831 - val_acc: 0.5932\n",
      "Epoch 132/300\n",
      "17/17 [==============================] - 10s 606ms/step - loss: 0.6592 - acc: 0.5878 - val_loss: 0.6830 - val_acc: 0.5932\n",
      "Epoch 133/300\n",
      "17/17 [==============================] - 10s 604ms/step - loss: 0.6592 - acc: 0.6109 - val_loss: 0.6830 - val_acc: 0.5932\n",
      "Epoch 134/300\n",
      "17/17 [==============================] - 10s 604ms/step - loss: 0.6600 - acc: 0.6016 - val_loss: 0.6827 - val_acc: 0.5932\n",
      "Epoch 135/300\n",
      "17/17 [==============================] - 10s 608ms/step - loss: 0.6704 - acc: 0.6052 - val_loss: 0.6828 - val_acc: 0.5932\n",
      "Epoch 136/300\n",
      "17/17 [==============================] - 10s 603ms/step - loss: 0.6287 - acc: 0.6553 - val_loss: 0.6827 - val_acc: 0.5932\n",
      "Epoch 137/300\n",
      "17/17 [==============================] - 10s 605ms/step - loss: 0.6557 - acc: 0.6185 - val_loss: 0.6824 - val_acc: 0.5932\n",
      "Epoch 138/300\n",
      "17/17 [==============================] - 10s 605ms/step - loss: 0.6687 - acc: 0.5692 - val_loss: 0.6826 - val_acc: 0.5932\n",
      "Epoch 139/300\n",
      "17/17 [==============================] - 10s 602ms/step - loss: 0.6451 - acc: 0.6427 - val_loss: 0.6822 - val_acc: 0.5932\n",
      "Epoch 140/300\n",
      "17/17 [==============================] - 10s 604ms/step - loss: 0.6562 - acc: 0.5851 - val_loss: 0.6826 - val_acc: 0.5932\n",
      "Epoch 141/300\n",
      "17/17 [==============================] - 10s 604ms/step - loss: 0.6660 - acc: 0.5936 - val_loss: 0.6822 - val_acc: 0.5932\n",
      "Epoch 142/300\n",
      "17/17 [==============================] - 10s 601ms/step - loss: 0.6540 - acc: 0.6124 - val_loss: 0.6821 - val_acc: 0.5932\n",
      "Epoch 143/300\n",
      "17/17 [==============================] - 10s 604ms/step - loss: 0.6516 - acc: 0.6093 - val_loss: 0.6825 - val_acc: 0.5932\n",
      "Epoch 144/300\n",
      "17/17 [==============================] - 10s 602ms/step - loss: 0.6560 - acc: 0.6215 - val_loss: 0.6824 - val_acc: 0.5932\n",
      "Epoch 145/300\n",
      "17/17 [==============================] - 10s 604ms/step - loss: 0.6515 - acc: 0.6255 - val_loss: 0.6823 - val_acc: 0.5932\n",
      "Epoch 146/300\n",
      "17/17 [==============================] - 10s 607ms/step - loss: 0.6558 - acc: 0.6136 - val_loss: 0.6821 - val_acc: 0.5932\n",
      "Epoch 147/300\n",
      "17/17 [==============================] - 10s 602ms/step - loss: 0.6400 - acc: 0.6250 - val_loss: 0.6825 - val_acc: 0.5932\n",
      "Epoch 148/300\n",
      "17/17 [==============================] - 10s 605ms/step - loss: 0.6457 - acc: 0.6161 - val_loss: 0.6823 - val_acc: 0.5932\n",
      "Epoch 149/300\n",
      "17/17 [==============================] - 10s 600ms/step - loss: 0.6375 - acc: 0.6117 - val_loss: 0.6820 - val_acc: 0.5932\n",
      "Epoch 150/300\n",
      "17/17 [==============================] - 10s 605ms/step - loss: 0.6394 - acc: 0.6489 - val_loss: 0.6820 - val_acc: 0.5932\n",
      "Epoch 151/300\n",
      "17/17 [==============================] - 10s 602ms/step - loss: 0.6411 - acc: 0.6424 - val_loss: 0.6823 - val_acc: 0.5932\n",
      "Epoch 152/300\n",
      "17/17 [==============================] - 10s 603ms/step - loss: 0.6553 - acc: 0.6053 - val_loss: 0.6825 - val_acc: 0.5932\n",
      "Epoch 153/300\n",
      "17/17 [==============================] - 10s 606ms/step - loss: 0.6644 - acc: 0.5765 - val_loss: 0.6820 - val_acc: 0.5932\n",
      "Epoch 154/300\n",
      "17/17 [==============================] - 10s 601ms/step - loss: 0.6521 - acc: 0.5947 - val_loss: 0.6818 - val_acc: 0.5932\n",
      "Epoch 155/300\n",
      "17/17 [==============================] - 10s 603ms/step - loss: 0.6463 - acc: 0.6032 - val_loss: 0.6822 - val_acc: 0.5932\n",
      "Epoch 156/300\n",
      "17/17 [==============================] - 10s 608ms/step - loss: 0.6502 - acc: 0.6280 - val_loss: 0.6825 - val_acc: 0.5932\n",
      "Epoch 157/300\n",
      "17/17 [==============================] - 10s 600ms/step - loss: 0.6339 - acc: 0.6544 - val_loss: 0.6826 - val_acc: 0.5932\n",
      "Epoch 158/300\n",
      "17/17 [==============================] - 10s 604ms/step - loss: 0.6579 - acc: 0.5953 - val_loss: 0.6826 - val_acc: 0.5932\n",
      "Epoch 159/300\n",
      "17/17 [==============================] - 10s 606ms/step - loss: 0.6400 - acc: 0.6624 - val_loss: 0.6823 - val_acc: 0.5932\n",
      "Epoch 160/300\n",
      "17/17 [==============================] - 10s 605ms/step - loss: 0.6427 - acc: 0.6385 - val_loss: 0.6823 - val_acc: 0.5932\n",
      "Epoch 161/300\n",
      "17/17 [==============================] - 10s 602ms/step - loss: 0.6527 - acc: 0.5972 - val_loss: 0.6825 - val_acc: 0.5932\n",
      "Epoch 162/300\n",
      "17/17 [==============================] - 10s 603ms/step - loss: 0.6500 - acc: 0.6109 - val_loss: 0.6825 - val_acc: 0.5932\n",
      "Epoch 163/300\n",
      "17/17 [==============================] - 10s 601ms/step - loss: 0.6470 - acc: 0.6070 - val_loss: 0.6825 - val_acc: 0.5932\n",
      "Epoch 164/300\n",
      "17/17 [==============================] - 10s 603ms/step - loss: 0.6390 - acc: 0.6359 - val_loss: 0.6826 - val_acc: 0.5932\n",
      "Epoch 165/300\n",
      "17/17 [==============================] - 10s 609ms/step - loss: 0.6491 - acc: 0.6101 - val_loss: 0.6820 - val_acc: 0.5932\n",
      "Epoch 166/300\n",
      "17/17 [==============================] - 10s 602ms/step - loss: 0.6437 - acc: 0.6062 - val_loss: 0.6820 - val_acc: 0.5932\n",
      "Epoch 167/300\n",
      "17/17 [==============================] - 10s 602ms/step - loss: 0.6331 - acc: 0.6393 - val_loss: 0.6823 - val_acc: 0.5932\n",
      "Epoch 168/300\n",
      "17/17 [==============================] - 10s 603ms/step - loss: 0.6528 - acc: 0.5904 - val_loss: 0.6822 - val_acc: 0.5932\n",
      "Epoch 169/300\n",
      "17/17 [==============================] - 10s 606ms/step - loss: 0.6430 - acc: 0.5921 - val_loss: 0.6823 - val_acc: 0.5932\n",
      "Epoch 170/300\n",
      "17/17 [==============================] - 10s 603ms/step - loss: 0.6376 - acc: 0.6331 - val_loss: 0.6822 - val_acc: 0.5932\n",
      "Epoch 171/300\n",
      "17/17 [==============================] - 10s 612ms/step - loss: 0.6348 - acc: 0.6425 - val_loss: 0.6823 - val_acc: 0.5932\n",
      "Epoch 172/300\n",
      "17/17 [==============================] - 10s 606ms/step - loss: 0.6637 - acc: 0.6241 - val_loss: 0.6822 - val_acc: 0.5932\n",
      "Epoch 173/300\n",
      "17/17 [==============================] - 10s 602ms/step - loss: 0.6431 - acc: 0.6370 - val_loss: 0.6817 - val_acc: 0.5932\n",
      "Epoch 174/300\n",
      "17/17 [==============================] - 10s 601ms/step - loss: 0.6527 - acc: 0.6473 - val_loss: 0.6815 - val_acc: 0.5932\n",
      "Epoch 175/300\n",
      "17/17 [==============================] - 10s 605ms/step - loss: 0.6550 - acc: 0.6007 - val_loss: 0.6813 - val_acc: 0.5932\n",
      "Epoch 176/300\n",
      "17/17 [==============================] - 10s 602ms/step - loss: 0.6473 - acc: 0.5900 - val_loss: 0.6813 - val_acc: 0.5932\n",
      "Epoch 177/300\n",
      "17/17 [==============================] - 10s 602ms/step - loss: 0.6437 - acc: 0.6270 - val_loss: 0.6817 - val_acc: 0.5932\n",
      "Epoch 178/300\n",
      "17/17 [==============================] - 10s 609ms/step - loss: 0.6535 - acc: 0.6327 - val_loss: 0.6819 - val_acc: 0.5932\n",
      "Epoch 179/300\n",
      "17/17 [==============================] - 10s 604ms/step - loss: 0.6397 - acc: 0.6351 - val_loss: 0.6820 - val_acc: 0.5932\n",
      "Epoch 180/300\n",
      "17/17 [==============================] - 10s 606ms/step - loss: 0.6472 - acc: 0.6261 - val_loss: 0.6818 - val_acc: 0.5932\n",
      "Epoch 181/300\n",
      "17/17 [==============================] - 10s 604ms/step - loss: 0.6519 - acc: 0.6208 - val_loss: 0.6817 - val_acc: 0.5932\n",
      "Epoch 182/300\n",
      "17/17 [==============================] - 10s 607ms/step - loss: 0.6407 - acc: 0.6408 - val_loss: 0.6817 - val_acc: 0.5932\n",
      "Epoch 183/300\n",
      "17/17 [==============================] - 10s 602ms/step - loss: 0.6491 - acc: 0.6247 - val_loss: 0.6814 - val_acc: 0.5932\n",
      "Epoch 184/300\n",
      "17/17 [==============================] - 10s 603ms/step - loss: 0.6566 - acc: 0.5879 - val_loss: 0.6815 - val_acc: 0.5932\n",
      "Epoch 185/300\n",
      "17/17 [==============================] - 10s 607ms/step - loss: 0.6487 - acc: 0.6046 - val_loss: 0.6814 - val_acc: 0.5932\n",
      "Epoch 186/300\n",
      "17/17 [==============================] - 10s 605ms/step - loss: 0.6517 - acc: 0.6129 - val_loss: 0.6813 - val_acc: 0.5932\n",
      "Epoch 187/300\n",
      "17/17 [==============================] - 10s 602ms/step - loss: 0.6434 - acc: 0.6187 - val_loss: 0.6815 - val_acc: 0.5932\n",
      "Epoch 188/300\n",
      "17/17 [==============================] - 10s 604ms/step - loss: 0.6366 - acc: 0.6568 - val_loss: 0.6816 - val_acc: 0.5932\n",
      "Epoch 189/300\n",
      "17/17 [==============================] - 10s 602ms/step - loss: 0.6372 - acc: 0.6075 - val_loss: 0.6818 - val_acc: 0.5932\n",
      "Epoch 190/300\n",
      "17/17 [==============================] - 10s 601ms/step - loss: 0.6423 - acc: 0.5961 - val_loss: 0.6819 - val_acc: 0.5932\n",
      "Epoch 191/300\n",
      "17/17 [==============================] - 10s 603ms/step - loss: 0.6469 - acc: 0.6131 - val_loss: 0.6827 - val_acc: 0.5932\n",
      "Epoch 192/300\n",
      "17/17 [==============================] - 10s 601ms/step - loss: 0.6466 - acc: 0.6523 - val_loss: 0.6824 - val_acc: 0.5932\n",
      "Epoch 193/300\n",
      "17/17 [==============================] - 10s 602ms/step - loss: 0.6511 - acc: 0.6119 - val_loss: 0.6819 - val_acc: 0.5932\n",
      "Epoch 194/300\n",
      "17/17 [==============================] - 10s 604ms/step - loss: 0.6396 - acc: 0.6462 - val_loss: 0.6818 - val_acc: 0.5932\n",
      "Epoch 195/300\n",
      "17/17 [==============================] - 10s 606ms/step - loss: 0.6290 - acc: 0.6642 - val_loss: 0.6822 - val_acc: 0.5932\n",
      "Epoch 196/300\n",
      "17/17 [==============================] - 10s 602ms/step - loss: 0.6434 - acc: 0.6120 - val_loss: 0.6821 - val_acc: 0.5932\n",
      "Epoch 197/300\n",
      "17/17 [==============================] - 10s 601ms/step - loss: 0.6404 - acc: 0.6175 - val_loss: 0.6824 - val_acc: 0.5932\n",
      "Epoch 198/300\n",
      "17/17 [==============================] - 10s 607ms/step - loss: 0.6327 - acc: 0.6481 - val_loss: 0.6821 - val_acc: 0.5932\n",
      "Epoch 199/300\n",
      "17/17 [==============================] - 10s 602ms/step - loss: 0.6498 - acc: 0.6001 - val_loss: 0.6824 - val_acc: 0.5932\n",
      "Epoch 200/300\n",
      "17/17 [==============================] - 10s 604ms/step - loss: 0.6296 - acc: 0.6688 - val_loss: 0.6822 - val_acc: 0.5932\n",
      "Epoch 201/300\n",
      "17/17 [==============================] - 10s 608ms/step - loss: 0.6286 - acc: 0.6629 - val_loss: 0.6825 - val_acc: 0.5932\n",
      "Epoch 202/300\n",
      "17/17 [==============================] - 10s 601ms/step - loss: 0.6477 - acc: 0.5999 - val_loss: 0.6827 - val_acc: 0.5932\n",
      "Epoch 203/300\n",
      "17/17 [==============================] - 10s 602ms/step - loss: 0.6469 - acc: 0.6068 - val_loss: 0.6832 - val_acc: 0.5932\n",
      "Epoch 204/300\n",
      "17/17 [==============================] - 10s 604ms/step - loss: 0.6234 - acc: 0.6442 - val_loss: 0.6831 - val_acc: 0.5932\n",
      "Epoch 205/300\n",
      "17/17 [==============================] - 10s 604ms/step - loss: 0.6544 - acc: 0.6083 - val_loss: 0.6831 - val_acc: 0.5932\n",
      "Epoch 206/300\n",
      "17/17 [==============================] - 10s 600ms/step - loss: 0.6362 - acc: 0.6196 - val_loss: 0.6831 - val_acc: 0.5932\n",
      "Epoch 207/300\n",
      "17/17 [==============================] - 10s 606ms/step - loss: 0.6421 - acc: 0.6108 - val_loss: 0.6834 - val_acc: 0.5932\n",
      "Epoch 208/300\n",
      "17/17 [==============================] - 10s 602ms/step - loss: 0.6390 - acc: 0.6245 - val_loss: 0.6830 - val_acc: 0.5932\n",
      "Epoch 209/300\n",
      "17/17 [==============================] - 10s 600ms/step - loss: 0.6464 - acc: 0.6106 - val_loss: 0.6835 - val_acc: 0.5932\n",
      "Epoch 210/300\n",
      "17/17 [==============================] - 10s 603ms/step - loss: 0.6350 - acc: 0.6228 - val_loss: 0.6831 - val_acc: 0.5932\n",
      "Epoch 211/300\n",
      "17/17 [==============================] - 10s 607ms/step - loss: 0.6379 - acc: 0.6488 - val_loss: 0.6831 - val_acc: 0.5932\n",
      "Epoch 212/300\n",
      "17/17 [==============================] - 10s 601ms/step - loss: 0.6307 - acc: 0.6310 - val_loss: 0.6835 - val_acc: 0.5932\n",
      "Epoch 213/300\n",
      "17/17 [==============================] - 10s 601ms/step - loss: 0.6270 - acc: 0.6481 - val_loss: 0.6836 - val_acc: 0.5932\n",
      "Epoch 214/300\n",
      "17/17 [==============================] - 10s 604ms/step - loss: 0.6398 - acc: 0.6049 - val_loss: 0.6832 - val_acc: 0.5932\n",
      "Epoch 215/300\n",
      "17/17 [==============================] - 10s 602ms/step - loss: 0.6297 - acc: 0.6613 - val_loss: 0.6829 - val_acc: 0.5932\n",
      "Epoch 216/300\n",
      "17/17 [==============================] - 10s 601ms/step - loss: 0.6378 - acc: 0.6484 - val_loss: 0.6831 - val_acc: 0.5932\n",
      "Epoch 217/300\n",
      "17/17 [==============================] - 10s 608ms/step - loss: 0.6297 - acc: 0.6345 - val_loss: 0.6840 - val_acc: 0.5763\n",
      "Epoch 218/300\n",
      "17/17 [==============================] - 10s 603ms/step - loss: 0.6438 - acc: 0.6131 - val_loss: 0.6837 - val_acc: 0.5932\n",
      "Epoch 219/300\n",
      "17/17 [==============================] - 10s 600ms/step - loss: 0.6440 - acc: 0.6310 - val_loss: 0.6835 - val_acc: 0.5932\n",
      "Epoch 220/300\n",
      "17/17 [==============================] - 10s 606ms/step - loss: 0.6343 - acc: 0.6358 - val_loss: 0.6833 - val_acc: 0.5932\n",
      "Epoch 221/300\n",
      "17/17 [==============================] - 10s 601ms/step - loss: 0.6298 - acc: 0.6609 - val_loss: 0.6834 - val_acc: 0.5932\n",
      "Epoch 222/300\n",
      "17/17 [==============================] - 10s 602ms/step - loss: 0.6423 - acc: 0.6473 - val_loss: 0.6838 - val_acc: 0.5932\n",
      "Epoch 223/300\n",
      "17/17 [==============================] - 10s 606ms/step - loss: 0.6333 - acc: 0.6469 - val_loss: 0.6840 - val_acc: 0.5932\n",
      "Epoch 224/300\n",
      "17/17 [==============================] - 10s 607ms/step - loss: 0.6400 - acc: 0.6264 - val_loss: 0.6839 - val_acc: 0.5932\n",
      "Epoch 225/300\n",
      "17/17 [==============================] - 10s 600ms/step - loss: 0.6265 - acc: 0.6546 - val_loss: 0.6836 - val_acc: 0.5932\n",
      "Epoch 226/300\n",
      "17/17 [==============================] - 10s 602ms/step - loss: 0.6294 - acc: 0.6401 - val_loss: 0.6832 - val_acc: 0.5932\n",
      "Epoch 227/300\n",
      "17/17 [==============================] - 10s 604ms/step - loss: 0.6269 - acc: 0.6471 - val_loss: 0.6832 - val_acc: 0.5932\n",
      "Epoch 228/300\n",
      "17/17 [==============================] - 10s 603ms/step - loss: 0.6265 - acc: 0.6650 - val_loss: 0.6836 - val_acc: 0.5932\n",
      "Epoch 229/300\n",
      "17/17 [==============================] - 10s 602ms/step - loss: 0.6453 - acc: 0.6155 - val_loss: 0.6836 - val_acc: 0.5932\n",
      "Epoch 230/300\n",
      "17/17 [==============================] - 10s 608ms/step - loss: 0.6442 - acc: 0.6014 - val_loss: 0.6835 - val_acc: 0.5932\n",
      "Epoch 231/300\n",
      "17/17 [==============================] - 10s 601ms/step - loss: 0.6484 - acc: 0.6502 - val_loss: 0.6839 - val_acc: 0.5932\n",
      "Epoch 232/300\n",
      "17/17 [==============================] - 10s 600ms/step - loss: 0.6248 - acc: 0.6536 - val_loss: 0.6836 - val_acc: 0.5932\n",
      "Epoch 233/300\n",
      "17/17 [==============================] - 10s 612ms/step - loss: 0.6448 - acc: 0.6239 - val_loss: 0.6832 - val_acc: 0.5932\n",
      "Epoch 234/300\n",
      "17/17 [==============================] - 10s 602ms/step - loss: 0.6332 - acc: 0.6404 - val_loss: 0.6838 - val_acc: 0.5932\n",
      "Epoch 235/300\n",
      "17/17 [==============================] - 10s 601ms/step - loss: 0.6330 - acc: 0.6320 - val_loss: 0.6836 - val_acc: 0.5932\n",
      "Epoch 236/300\n",
      "17/17 [==============================] - 10s 602ms/step - loss: 0.6487 - acc: 0.6296 - val_loss: 0.6832 - val_acc: 0.5932\n",
      "Epoch 237/300\n",
      "17/17 [==============================] - 10s 606ms/step - loss: 0.6371 - acc: 0.6384 - val_loss: 0.6832 - val_acc: 0.5932\n",
      "Epoch 238/300\n",
      "17/17 [==============================] - 10s 599ms/step - loss: 0.6478 - acc: 0.6178 - val_loss: 0.6835 - val_acc: 0.5932\n",
      "Epoch 239/300\n",
      "17/17 [==============================] - 10s 602ms/step - loss: 0.6292 - acc: 0.6353 - val_loss: 0.6838 - val_acc: 0.5932\n",
      "Epoch 240/300\n",
      "17/17 [==============================] - 10s 610ms/step - loss: 0.6368 - acc: 0.6463 - val_loss: 0.6839 - val_acc: 0.5932\n",
      "Epoch 241/300\n",
      "17/17 [==============================] - 10s 602ms/step - loss: 0.6386 - acc: 0.6495 - val_loss: 0.6844 - val_acc: 0.5932\n",
      "Epoch 242/300\n",
      "17/17 [==============================] - 10s 601ms/step - loss: 0.6241 - acc: 0.6678 - val_loss: 0.6847 - val_acc: 0.5932\n",
      "Epoch 243/300\n",
      "17/17 [==============================] - 10s 605ms/step - loss: 0.6325 - acc: 0.6468 - val_loss: 0.6844 - val_acc: 0.5932\n",
      "Epoch 244/300\n",
      "17/17 [==============================] - 10s 604ms/step - loss: 0.6281 - acc: 0.6523 - val_loss: 0.6845 - val_acc: 0.5932\n",
      "Epoch 245/300\n",
      "17/17 [==============================] - 10s 604ms/step - loss: 0.6480 - acc: 0.5971 - val_loss: 0.6846 - val_acc: 0.5932\n",
      "Epoch 246/300\n",
      "17/17 [==============================] - 10s 606ms/step - loss: 0.6352 - acc: 0.6151 - val_loss: 0.6842 - val_acc: 0.5932\n",
      "Epoch 247/300\n",
      "17/17 [==============================] - 10s 607ms/step - loss: 0.6404 - acc: 0.6595 - val_loss: 0.6843 - val_acc: 0.5932\n",
      "Epoch 248/300\n",
      "17/17 [==============================] - 10s 601ms/step - loss: 0.6392 - acc: 0.6601 - val_loss: 0.6841 - val_acc: 0.5932\n",
      "Epoch 249/300\n",
      "17/17 [==============================] - 10s 603ms/step - loss: 0.6481 - acc: 0.6125 - val_loss: 0.6837 - val_acc: 0.5932\n",
      "Epoch 250/300\n",
      "17/17 [==============================] - 10s 608ms/step - loss: 0.6240 - acc: 0.6499 - val_loss: 0.6836 - val_acc: 0.5932\n",
      "Epoch 251/300\n",
      "17/17 [==============================] - 10s 604ms/step - loss: 0.6426 - acc: 0.6328 - val_loss: 0.6839 - val_acc: 0.5932\n",
      "Epoch 252/300\n",
      "17/17 [==============================] - 10s 600ms/step - loss: 0.6230 - acc: 0.6342 - val_loss: 0.6838 - val_acc: 0.5932\n",
      "Epoch 253/300\n",
      "17/17 [==============================] - 10s 603ms/step - loss: 0.6298 - acc: 0.6563 - val_loss: 0.6836 - val_acc: 0.5932\n",
      "Epoch 254/300\n",
      "17/17 [==============================] - 10s 601ms/step - loss: 0.6337 - acc: 0.6295 - val_loss: 0.6838 - val_acc: 0.5932\n",
      "Epoch 255/300\n",
      "17/17 [==============================] - 10s 599ms/step - loss: 0.6308 - acc: 0.6253 - val_loss: 0.6838 - val_acc: 0.5932\n",
      "Epoch 256/300\n",
      "17/17 [==============================] - 10s 605ms/step - loss: 0.6485 - acc: 0.6034 - val_loss: 0.6836 - val_acc: 0.5932\n",
      "Epoch 257/300\n",
      "17/17 [==============================] - 10s 606ms/step - loss: 0.6355 - acc: 0.6222 - val_loss: 0.6838 - val_acc: 0.5932\n",
      "Epoch 258/300\n",
      "17/17 [==============================] - 10s 602ms/step - loss: 0.6195 - acc: 0.6713 - val_loss: 0.6840 - val_acc: 0.5932\n",
      "Epoch 259/300\n",
      "17/17 [==============================] - 10s 604ms/step - loss: 0.6298 - acc: 0.6484 - val_loss: 0.6835 - val_acc: 0.5932\n",
      "Epoch 260/300\n",
      "17/17 [==============================] - 10s 609ms/step - loss: 0.6308 - acc: 0.6292 - val_loss: 0.6835 - val_acc: 0.5932\n",
      "Epoch 261/300\n",
      "17/17 [==============================] - 10s 601ms/step - loss: 0.6279 - acc: 0.6287 - val_loss: 0.6834 - val_acc: 0.5932\n",
      "Epoch 262/300\n",
      "17/17 [==============================] - 10s 603ms/step - loss: 0.6398 - acc: 0.6315 - val_loss: 0.6836 - val_acc: 0.5932\n",
      "Epoch 263/300\n",
      "17/17 [==============================] - 10s 610ms/step - loss: 0.6211 - acc: 0.6775 - val_loss: 0.6833 - val_acc: 0.5932\n",
      "Epoch 264/300\n",
      "17/17 [==============================] - 10s 600ms/step - loss: 0.6245 - acc: 0.6549 - val_loss: 0.6833 - val_acc: 0.5932\n",
      "Epoch 265/300\n",
      "17/17 [==============================] - 10s 602ms/step - loss: 0.6281 - acc: 0.6373 - val_loss: 0.6839 - val_acc: 0.6102\n",
      "Epoch 266/300\n",
      "17/17 [==============================] - 10s 606ms/step - loss: 0.6330 - acc: 0.6091 - val_loss: 0.6836 - val_acc: 0.6102\n",
      "Epoch 267/300\n",
      "17/17 [==============================] - 10s 603ms/step - loss: 0.6249 - acc: 0.6397 - val_loss: 0.6835 - val_acc: 0.6102\n",
      "Epoch 268/300\n",
      "17/17 [==============================] - 10s 601ms/step - loss: 0.6351 - acc: 0.6323 - val_loss: 0.6836 - val_acc: 0.6102\n",
      "Epoch 269/300\n",
      "17/17 [==============================] - 10s 601ms/step - loss: 0.6338 - acc: 0.6174 - val_loss: 0.6835 - val_acc: 0.6102\n",
      "Epoch 270/300\n",
      "17/17 [==============================] - 10s 603ms/step - loss: 0.6225 - acc: 0.6470 - val_loss: 0.6837 - val_acc: 0.6102\n",
      "Epoch 271/300\n",
      "17/17 [==============================] - 10s 604ms/step - loss: 0.6268 - acc: 0.6407 - val_loss: 0.6835 - val_acc: 0.5932\n",
      "Epoch 272/300\n",
      "17/17 [==============================] - 10s 604ms/step - loss: 0.6295 - acc: 0.6470 - val_loss: 0.6828 - val_acc: 0.5763\n",
      "Epoch 273/300\n",
      "17/17 [==============================] - 10s 605ms/step - loss: 0.6438 - acc: 0.6157 - val_loss: 0.6833 - val_acc: 0.5932\n",
      "Epoch 274/300\n",
      "17/17 [==============================] - 10s 604ms/step - loss: 0.6247 - acc: 0.6500 - val_loss: 0.6835 - val_acc: 0.5932\n",
      "Epoch 275/300\n",
      "17/17 [==============================] - 10s 607ms/step - loss: 0.6355 - acc: 0.6350 - val_loss: 0.6832 - val_acc: 0.5932\n",
      "Epoch 276/300\n",
      "17/17 [==============================] - 10s 610ms/step - loss: 0.6267 - acc: 0.6125 - val_loss: 0.6837 - val_acc: 0.6102\n",
      "Epoch 277/300\n",
      "17/17 [==============================] - 10s 602ms/step - loss: 0.6102 - acc: 0.6536 - val_loss: 0.6843 - val_acc: 0.6102\n",
      "Epoch 278/300\n",
      "17/17 [==============================] - 10s 601ms/step - loss: 0.6153 - acc: 0.6494 - val_loss: 0.6839 - val_acc: 0.6102\n",
      "Epoch 279/300\n",
      "17/17 [==============================] - 10s 606ms/step - loss: 0.6434 - acc: 0.6227 - val_loss: 0.6843 - val_acc: 0.6102\n",
      "Epoch 280/300\n",
      "17/17 [==============================] - 10s 605ms/step - loss: 0.6199 - acc: 0.6466 - val_loss: 0.6843 - val_acc: 0.6102\n",
      "Epoch 281/300\n",
      "17/17 [==============================] - 10s 603ms/step - loss: 0.6265 - acc: 0.6163 - val_loss: 0.6844 - val_acc: 0.6102\n",
      "Epoch 282/300\n",
      "17/17 [==============================] - 10s 600ms/step - loss: 0.6271 - acc: 0.6290 - val_loss: 0.6844 - val_acc: 0.6102\n",
      "Epoch 283/300\n",
      "17/17 [==============================] - 10s 606ms/step - loss: 0.6457 - acc: 0.6280 - val_loss: 0.6850 - val_acc: 0.6102\n",
      "Epoch 284/300\n",
      "17/17 [==============================] - 10s 603ms/step - loss: 0.6112 - acc: 0.6541 - val_loss: 0.6848 - val_acc: 0.6102\n",
      "Epoch 285/300\n",
      "17/17 [==============================] - 10s 601ms/step - loss: 0.6230 - acc: 0.6399 - val_loss: 0.6848 - val_acc: 0.6102\n",
      "Epoch 286/300\n",
      "17/17 [==============================] - 10s 611ms/step - loss: 0.6210 - acc: 0.6517 - val_loss: 0.6854 - val_acc: 0.5932\n",
      "Epoch 287/300\n",
      "17/17 [==============================] - 10s 603ms/step - loss: 0.6199 - acc: 0.6708 - val_loss: 0.6853 - val_acc: 0.5932\n",
      "Epoch 288/300\n",
      "17/17 [==============================] - 10s 599ms/step - loss: 0.6357 - acc: 0.6316 - val_loss: 0.6849 - val_acc: 0.5932\n",
      "Epoch 289/300\n",
      "17/17 [==============================] - 10s 606ms/step - loss: 0.6232 - acc: 0.6534 - val_loss: 0.6848 - val_acc: 0.5932\n",
      "Epoch 290/300\n",
      "17/17 [==============================] - 10s 605ms/step - loss: 0.6115 - acc: 0.6560 - val_loss: 0.6845 - val_acc: 0.5932\n",
      "Epoch 291/300\n",
      "17/17 [==============================] - 10s 600ms/step - loss: 0.6274 - acc: 0.6566 - val_loss: 0.6846 - val_acc: 0.5932\n",
      "Epoch 292/300\n",
      "17/17 [==============================] - 10s 601ms/step - loss: 0.6118 - acc: 0.6578 - val_loss: 0.6849 - val_acc: 0.5932\n",
      "Epoch 293/300\n",
      "17/17 [==============================] - 10s 608ms/step - loss: 0.6346 - acc: 0.6453 - val_loss: 0.6846 - val_acc: 0.5932\n",
      "Epoch 294/300\n",
      "17/17 [==============================] - 10s 604ms/step - loss: 0.6144 - acc: 0.6511 - val_loss: 0.6848 - val_acc: 0.5932\n",
      "Epoch 295/300\n",
      "17/17 [==============================] - 10s 603ms/step - loss: 0.6313 - acc: 0.6579 - val_loss: 0.6846 - val_acc: 0.5932\n",
      "Epoch 296/300\n",
      "17/17 [==============================] - 10s 604ms/step - loss: 0.6154 - acc: 0.6724 - val_loss: 0.6849 - val_acc: 0.5932\n",
      "Epoch 297/300\n",
      "17/17 [==============================] - 10s 600ms/step - loss: 0.6311 - acc: 0.6606 - val_loss: 0.6846 - val_acc: 0.5932\n",
      "Epoch 298/300\n",
      "17/17 [==============================] - 10s 602ms/step - loss: 0.6169 - acc: 0.6740 - val_loss: 0.6847 - val_acc: 0.5932\n",
      "Epoch 299/300\n",
      "17/17 [==============================] - 10s 604ms/step - loss: 0.6198 - acc: 0.6460 - val_loss: 0.6850 - val_acc: 0.5932\n",
      "Epoch 300/300\n",
      "17/17 [==============================] - 10s 606ms/step - loss: 0.6190 - acc: 0.6491 - val_loss: 0.6851 - val_acc: 0.5932\n"
     ]
    }
   ],
   "source": [
    "history = model.fit([train_flair[idx1], train_t1w[idx1], train_t1wce[idx1], train_t2w[idx1]] ,\n",
    "                 labels[idx1],\n",
    "                 epochs = 300,\n",
    "                 validation_data = ([train_flair[idx2], train_t1w[idx2], train_t1wce[idx2], train_t2w[idx2]],\n",
    "                                    labels[idx2]),\n",
    "                 callbacks=[best_callback],\n",
    "                 verbose = 1)"
   ]
  },
  {
   "cell_type": "code",
   "execution_count": 57,
   "id": "b72dd540",
   "metadata": {
    "execution": {
     "iopub.execute_input": "2021-08-13T17:59:45.017864Z",
     "iopub.status.busy": "2021-08-13T17:59:45.017216Z",
     "iopub.status.idle": "2021-08-13T17:59:45.423139Z",
     "shell.execute_reply": "2021-08-13T17:59:45.422680Z",
     "shell.execute_reply.started": "2021-08-13T01:42:07.889673Z"
    },
    "papermill": {
     "duration": 2.776666,
     "end_time": "2021-08-13T17:59:45.423292",
     "exception": false,
     "start_time": "2021-08-13T17:59:42.646626",
     "status": "completed"
    },
    "tags": []
   },
   "outputs": [
    {
     "data": {
      "image/png": "[encoded data removed]",
      "text/plain": [
       "<Figure size 432x288 with 1 Axes>"
      ]
     },
     "metadata": {
      "needs_background": "light"
     },
     "output_type": "display_data"
    },
    {
     "data": {
      "image/png": "[encoded data removed]",
      "text/plain": [
       "<Figure size 432x288 with 1 Axes>"
      ]
     },
     "metadata": {
      "needs_background": "light"
     },
     "output_type": "display_data"
    },
    {
     "data": {
      "text/plain": [
       "<Figure size 432x288 with 0 Axes>"
      ]
     },
     "metadata": {},
     "output_type": "display_data"
    }
   ],
   "source": [
    "# plot accuracy and loss\n",
    "\n",
    "import matplotlib.pyplot as plt\n",
    "\n",
    "epochs = range(len(history.history['acc']))\n",
    "acc = history.history['acc']\n",
    "val_acc = history.history['val_acc']\n",
    "loss = history.history['loss']\n",
    "val_loss = history.history['val_loss']\n",
    "\n",
    "plt.plot(epochs , acc , label = 'acc')\n",
    "plt.plot(epochs , val_acc , label = 'val_acc')\n",
    "plt.xlabel('epochs')\n",
    "plt.legend(loc = 'best')\n",
    "plt.figure()\n",
    "\n",
    "\n",
    "plt.plot(epochs , loss , label = 'loss')\n",
    "plt.plot(epochs , val_loss , label = 'val_loss')\n",
    "plt.xlabel('epochs')\n",
    "plt.legend(loc = 'best')\n",
    "plt.figure()\n",
    "\n",
    "plt.show()"
   ]
  },
  {
   "cell_type": "code",
   "execution_count": 58,
   "id": "8dc297ca",
   "metadata": {
    "execution": {
     "iopub.execute_input": "2021-08-13T17:59:50.597111Z",
     "iopub.status.busy": "2021-08-13T17:59:50.592244Z",
     "iopub.status.idle": "2021-08-13T17:59:50.906908Z",
     "shell.execute_reply": "2021-08-13T17:59:50.905719Z",
     "shell.execute_reply.started": "2021-08-13T01:23:46.94734Z"
    },
    "papermill": {
     "duration": 2.769241,
     "end_time": "2021-08-13T17:59:50.907057",
     "exception": false,
     "start_time": "2021-08-13T17:59:48.137816",
     "status": "completed"
    },
    "tags": []
   },
   "outputs": [],
   "source": [
    "final_model = tf.keras.models.load_model('./model.h5')"
   ]
  },
  {
   "cell_type": "code",
   "execution_count": 59,
   "id": "67de124f",
   "metadata": {
    "execution": {
     "iopub.execute_input": "2021-08-13T17:59:55.655343Z",
     "iopub.status.busy": "2021-08-13T17:59:55.654247Z",
     "iopub.status.idle": "2021-08-13T17:59:56.442064Z",
     "shell.execute_reply": "2021-08-13T17:59:56.441384Z",
     "shell.execute_reply.started": "2021-08-13T01:23:50.941742Z"
    },
    "papermill": {
     "duration": 3.134429,
     "end_time": "2021-08-13T17:59:56.442258",
     "exception": false,
     "start_time": "2021-08-13T17:59:53.307829",
     "status": "completed"
    },
    "tags": []
   },
   "outputs": [],
   "source": [
    "pred = final_model.predict([train_flair[idx2], train_t1w[idx2], train_t1wce[idx2], train_t2w[idx2]])"
   ]
  },
  {
   "cell_type": "code",
   "execution_count": 60,
   "id": "92c9fe41",
   "metadata": {
    "execution": {
     "iopub.execute_input": "2021-08-13T18:00:01.425766Z",
     "iopub.status.busy": "2021-08-13T18:00:01.425048Z",
     "iopub.status.idle": "2021-08-13T18:00:01.482759Z",
     "shell.execute_reply": "2021-08-13T18:00:01.483322Z"
    },
    "papermill": {
     "duration": 2.492657,
     "end_time": "2021-08-13T18:00:01.483481",
     "exception": false,
     "start_time": "2021-08-13T17:59:58.990824",
     "status": "completed"
    },
    "tags": []
   },
   "outputs": [
    {
     "name": "stdout",
     "output_type": "stream",
     "text": [
      "AUC is: 0.6187\n",
      "Optimum Threshold is: [0.56293935]\n"
     ]
    }
   ],
   "source": [
    "from sklearn.metrics import precision_recall_curve\n",
    "from sklearn.metrics import roc_auc_score\n",
    "\n",
    "max_auc = 0\n",
    "precision, recall, threshold = precision_recall_curve(labels[idx2] , pred)\n",
    "for t in threshold:\n",
    "    prediction = np.zeros(np.shape(pred))\n",
    "    prediction[pred > t] = 1\n",
    "    tmp_auc = roc_auc_score(labels[idx2] , prediction)\n",
    "    if tmp_auc > max_auc:\n",
    "        max_auc = tmp_auc\n",
    "        opt_thresh = [t]\n",
    "print('AUC is:' , np.round(max_auc,4))\n",
    "print('Optimum Threshold is:' , opt_thresh)"
   ]
  },
  {
   "cell_type": "code",
   "execution_count": 61,
   "id": "2fc2347b",
   "metadata": {
    "execution": {
     "iopub.execute_input": "2021-08-13T18:00:05.919393Z",
     "iopub.status.busy": "2021-08-13T18:00:05.918760Z",
     "iopub.status.idle": "2021-08-13T18:00:05.926487Z",
     "shell.execute_reply": "2021-08-13T18:00:05.925808Z",
     "shell.execute_reply.started": "2021-08-13T01:43:18.943903Z"
    },
    "papermill": {
     "duration": 2.279758,
     "end_time": "2021-08-13T18:00:05.926672",
     "exception": false,
     "start_time": "2021-08-13T18:00:03.646914",
     "status": "completed"
    },
    "tags": []
   },
   "outputs": [
    {
     "name": "stdout",
     "output_type": "stream",
     "text": [
      "AUC is: 0.6048\n"
     ]
    }
   ],
   "source": [
    "from sklearn.metrics import roc_auc_score\n",
    "auc = roc_auc_score(labels[idx2] , pred)\n",
    "print('AUC is:' , np.round(auc,4))"
   ]
  },
  {
   "cell_type": "code",
   "execution_count": 62,
   "id": "fd3e8668",
   "metadata": {
    "execution": {
     "iopub.execute_input": "2021-08-13T18:00:11.228128Z",
     "iopub.status.busy": "2021-08-13T18:00:11.226271Z",
     "iopub.status.idle": "2021-08-13T18:00:12.126094Z",
     "shell.execute_reply": "2021-08-13T18:00:12.126548Z",
     "shell.execute_reply.started": "2021-08-13T01:44:07.119458Z"
    },
    "papermill": {
     "duration": 3.861352,
     "end_time": "2021-08-13T18:00:12.126710",
     "exception": false,
     "start_time": "2021-08-13T18:00:08.265358",
     "status": "completed"
    },
    "tags": []
   },
   "outputs": [
    {
     "name": "stdout",
     "output_type": "stream",
     "text": [
      "2/2 [==============================] - 1s 159ms/step - loss: 0.6813 - acc: 0.5932\n"
     ]
    },
    {
     "data": {
      "text/plain": [
       "[0.6812521815299988, 0.5932203531265259]"
      ]
     },
     "execution_count": 62,
     "metadata": {},
     "output_type": "execute_result"
    }
   ],
   "source": [
    "final_model.evaluate([train_flair[idx2], train_t1w[idx2], train_t1wce[idx2], train_t2w[idx2]],\n",
    "                                    labels[idx2])"
   ]
  },
  {
   "cell_type": "code",
   "execution_count": 63,
   "id": "33da374a",
   "metadata": {
    "execution": {
     "iopub.execute_input": "2021-08-13T18:00:16.842495Z",
     "iopub.status.busy": "2021-08-13T18:00:16.841202Z",
     "iopub.status.idle": "2021-08-13T18:00:16.844786Z",
     "shell.execute_reply": "2021-08-13T18:00:16.844172Z",
     "shell.execute_reply.started": "2021-08-13T01:55:16.527004Z"
    },
    "papermill": {
     "duration": 2.375141,
     "end_time": "2021-08-13T18:00:16.844971",
     "exception": false,
     "start_time": "2021-08-13T18:00:14.469830",
     "status": "completed"
    },
    "tags": []
   },
   "outputs": [],
   "source": [
    "#from sklearn.metrics import precision_recall_curve\n",
    "#def find_opt_thresh(label , prediction):\n",
    "#    opt_threshold = []\n",
    "\n",
    "    # Get precision-recall curve\n",
    "#    precision, recall, threshold = precision_recall_curve(label, prediction)\n",
    "\n",
    "    # Compute f1 score for each point (use nan_to_num to avoid nans messing up the results)\n",
    "#    f1_score = np.nan_to_num(2 * precision * recall / (precision + recall))\n",
    "\n",
    "    # Select threshold that maximize f1 score\n",
    "#    index = np.argmax(f1_score)\n",
    " #   t = threshold[index-1] if index != 0 else threshold[0]-1e-10\n",
    "  #  opt_threshold.append(t)\n",
    "\n",
    " #   return opt_threshold"
   ]
  },
  {
   "cell_type": "code",
   "execution_count": 64,
   "id": "773616d5",
   "metadata": {
    "execution": {
     "iopub.execute_input": "2021-08-13T18:00:21.852486Z",
     "iopub.status.busy": "2021-08-13T18:00:21.851604Z",
     "iopub.status.idle": "2021-08-13T18:00:21.854294Z",
     "shell.execute_reply": "2021-08-13T18:00:21.853853Z",
     "shell.execute_reply.started": "2021-08-13T01:55:21.254144Z"
    },
    "papermill": {
     "duration": 2.652641,
     "end_time": "2021-08-13T18:00:21.854437",
     "exception": false,
     "start_time": "2021-08-13T18:00:19.201796",
     "status": "completed"
    },
    "tags": []
   },
   "outputs": [],
   "source": [
    "#prediction = np.zeros(np.shape(pred))\n",
    "#thresh = find_opt_thresh(labels[idx2] , pred)\n",
    "#prediction[pred > thresh] = 1\n",
    "#auc = roc_auc_score(labels[idx2] , prediction)\n",
    "#print('AUC is:' , np.round(auc,4))"
   ]
  },
  {
   "cell_type": "code",
   "execution_count": 65,
   "id": "b9b278ab",
   "metadata": {
    "execution": {
     "iopub.execute_input": "2021-08-13T18:00:26.579224Z",
     "iopub.status.busy": "2021-08-13T18:00:26.578217Z",
     "iopub.status.idle": "2021-08-13T18:00:26.581412Z",
     "shell.execute_reply": "2021-08-13T18:00:26.580854Z",
     "shell.execute_reply.started": "2021-08-13T01:55:29.431652Z"
    },
    "papermill": {
     "duration": 2.369467,
     "end_time": "2021-08-13T18:00:26.581559",
     "exception": false,
     "start_time": "2021-08-13T18:00:24.212092",
     "status": "completed"
    },
    "tags": []
   },
   "outputs": [],
   "source": [
    "#prediction = np.zeros(np.shape(pred))\n",
    "#thresh = find_opt_thresh(labels[idx2] , pred)\n",
    "#prediction[pred > 0.5] = 1\n",
    "#auc = roc_auc_score(labels[idx2] , prediction)\n",
    "#print('AUC is:' , np.round(auc,4))"
   ]
  },
  {
   "cell_type": "code",
   "execution_count": 66,
   "id": "f3ad1450",
   "metadata": {
    "execution": {
     "iopub.execute_input": "2021-08-13T18:00:31.554263Z",
     "iopub.status.busy": "2021-08-13T18:00:31.553249Z",
     "iopub.status.idle": "2021-08-13T18:00:32.376889Z",
     "shell.execute_reply": "2021-08-13T18:00:32.375852Z",
     "shell.execute_reply.started": "2021-08-13T02:01:38.381888Z"
    },
    "papermill": {
     "duration": 3.431198,
     "end_time": "2021-08-13T18:00:32.377048",
     "exception": false,
     "start_time": "2021-08-13T18:00:28.945850",
     "status": "completed"
    },
    "tags": []
   },
   "outputs": [],
   "source": [
    "test_pred = final_model.predict([test_flair, test_t1w, test_t1wce, test_t2w])"
   ]
  },
  {
   "cell_type": "code",
   "execution_count": 67,
   "id": "04ea22bc",
   "metadata": {
    "execution": {
     "iopub.execute_input": "2021-08-13T18:00:36.989353Z",
     "iopub.status.busy": "2021-08-13T18:00:36.988311Z",
     "iopub.status.idle": "2021-08-13T18:00:36.991122Z",
     "shell.execute_reply": "2021-08-13T18:00:36.990696Z"
    },
    "papermill": {
     "duration": 2.229811,
     "end_time": "2021-08-13T18:00:36.991252",
     "exception": false,
     "start_time": "2021-08-13T18:00:34.761441",
     "status": "completed"
    },
    "tags": []
   },
   "outputs": [],
   "source": [
    "test_prediction = np.zeros(np.shape(test_pred))\n",
    "test_prediction[test_pred > opt_thresh] = 1"
   ]
  },
  {
   "cell_type": "code",
   "execution_count": 68,
   "id": "567486e0",
   "metadata": {
    "execution": {
     "iopub.execute_input": "2021-08-13T18:00:41.381079Z",
     "iopub.status.busy": "2021-08-13T18:00:41.380483Z",
     "iopub.status.idle": "2021-08-13T18:00:41.383331Z",
     "shell.execute_reply": "2021-08-13T18:00:41.383702Z",
     "shell.execute_reply.started": "2021-08-13T02:01:42.96231Z"
    },
    "papermill": {
     "duration": 2.204185,
     "end_time": "2021-08-13T18:00:41.383838",
     "exception": false,
     "start_time": "2021-08-13T18:00:39.179653",
     "status": "completed"
    },
    "tags": []
   },
   "outputs": [],
   "source": [
    "# preparing submission.csv\n",
    "\n",
    "fhand = open('submission.csv' , 'w')\n",
    "fhand.write('BraTS21ID,MGMT_value')\n",
    "fhand.write('\\n')\n",
    "\n",
    "\n",
    "for k,v in enumerate(test_prediction):\n",
    "\n",
    "    fhand.write(test_list[k]+','+str(v[0]))\n",
    "    fhand.write('\\n')\n",
    "    \n",
    "fhand.close()"
   ]
  },
  {
   "cell_type": "code",
   "execution_count": 69,
   "id": "eae6cc3b",
   "metadata": {
    "execution": {
     "iopub.execute_input": "2021-08-13T18:00:46.515540Z",
     "iopub.status.busy": "2021-08-13T18:00:46.510716Z",
     "iopub.status.idle": "2021-08-13T18:00:46.529805Z",
     "shell.execute_reply": "2021-08-13T18:00:46.530432Z",
     "shell.execute_reply.started": "2021-08-13T02:01:46.655227Z"
    },
    "papermill": {
     "duration": 2.471553,
     "end_time": "2021-08-13T18:00:46.530608",
     "exception": false,
     "start_time": "2021-08-13T18:00:44.059055",
     "status": "completed"
    },
    "tags": []
   },
   "outputs": [
    {
     "data": {
      "text/html": [
       "<div>\n",
       "<style scoped>\n",
       "    .dataframe tbody tr th:only-of-type {\n",
       "        vertical-align: middle;\n",
       "    }\n",
       "\n",
       "    .dataframe tbody tr th {\n",
       "        vertical-align: top;\n",
       "    }\n",
       "\n",
       "    .dataframe thead th {\n",
       "        text-align: right;\n",
       "    }\n",
       "</style>\n",
       "<table border=\"1\" class=\"dataframe\">\n",
       "  <thead>\n",
       "    <tr style=\"text-align: right;\">\n",
       "      <th></th>\n",
       "      <th>BraTS21ID</th>\n",
       "      <th>MGMT_value</th>\n",
       "    </tr>\n",
       "  </thead>\n",
       "  <tbody>\n",
       "    <tr>\n",
       "      <th>0</th>\n",
       "      <td>1</td>\n",
       "      <td>0.0</td>\n",
       "    </tr>\n",
       "    <tr>\n",
       "      <th>1</th>\n",
       "      <td>13</td>\n",
       "      <td>0.0</td>\n",
       "    </tr>\n",
       "    <tr>\n",
       "      <th>2</th>\n",
       "      <td>15</td>\n",
       "      <td>0.0</td>\n",
       "    </tr>\n",
       "    <tr>\n",
       "      <th>3</th>\n",
       "      <td>27</td>\n",
       "      <td>0.0</td>\n",
       "    </tr>\n",
       "    <tr>\n",
       "      <th>4</th>\n",
       "      <td>37</td>\n",
       "      <td>0.0</td>\n",
       "    </tr>\n",
       "    <tr>\n",
       "      <th>...</th>\n",
       "      <td>...</td>\n",
       "      <td>...</td>\n",
       "    </tr>\n",
       "    <tr>\n",
       "      <th>82</th>\n",
       "      <td>826</td>\n",
       "      <td>0.0</td>\n",
       "    </tr>\n",
       "    <tr>\n",
       "      <th>83</th>\n",
       "      <td>829</td>\n",
       "      <td>0.0</td>\n",
       "    </tr>\n",
       "    <tr>\n",
       "      <th>84</th>\n",
       "      <td>833</td>\n",
       "      <td>0.0</td>\n",
       "    </tr>\n",
       "    <tr>\n",
       "      <th>85</th>\n",
       "      <td>997</td>\n",
       "      <td>0.0</td>\n",
       "    </tr>\n",
       "    <tr>\n",
       "      <th>86</th>\n",
       "      <td>1006</td>\n",
       "      <td>0.0</td>\n",
       "    </tr>\n",
       "  </tbody>\n",
       "</table>\n",
       "<p>87 rows × 2 columns</p>\n",
       "</div>"
      ],
      "text/plain": [
       "    BraTS21ID  MGMT_value\n",
       "0           1         0.0\n",
       "1          13         0.0\n",
       "2          15         0.0\n",
       "3          27         0.0\n",
       "4          37         0.0\n",
       "..        ...         ...\n",
       "82        826         0.0\n",
       "83        829         0.0\n",
       "84        833         0.0\n",
       "85        997         0.0\n",
       "86       1006         0.0\n",
       "\n",
       "[87 rows x 2 columns]"
      ]
     },
     "execution_count": 69,
     "metadata": {},
     "output_type": "execute_result"
    }
   ],
   "source": [
    "pd.read_csv('./submission.csv')"
   ]
  },
  {
   "cell_type": "code",
   "execution_count": null,
   "id": "f83c33b0",
   "metadata": {
    "papermill": {
     "duration": 2.200445,
     "end_time": "2021-08-13T18:00:50.892109",
     "exception": false,
     "start_time": "2021-08-13T18:00:48.691664",
     "status": "completed"
    },
    "tags": []
   },
   "outputs": [],
   "source": []
  }
 ],
 "metadata": {
  "kernelspec": {
   "display_name": "Python 3",
   "language": "python",
   "name": "python3"
  },
  "language_info": {
   "codemirror_mode": {
    "name": "ipython",
    "version": 3
   },
   "file_extension": ".py",
   "mimetype": "text/x-python",
   "name": "python",
   "nbconvert_exporter": "python",
   "pygments_lexer": "ipython3",
   "version": "3.7.10"
  },
  "papermill": {
   "default_parameters": {},
   "duration": 6580.206532,
   "end_time": "2021-08-13T18:00:55.874634",
   "environment_variables": {},
   "exception": null,
   "input_path": "__notebook__.ipynb",
   "output_path": "__notebook__.ipynb",
   "parameters": {},
   "start_time": "2021-08-13T16:11:15.668102",
   "version": "2.3.3"
  }
 },
 "nbformat": 4,
 "nbformat_minor": 5
}
